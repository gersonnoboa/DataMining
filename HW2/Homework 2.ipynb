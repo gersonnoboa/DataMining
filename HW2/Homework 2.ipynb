{
 "cells": [
  {
   "cell_type": "markdown",
   "metadata": {},
   "source": [
    "<h1>Homework 2</h1>\n",
    "<h2>Data Mining</h2>\n",
    "Luis Gerson Noboa Martillo"
   ]
  },
  {
   "cell_type": "markdown",
   "metadata": {},
   "source": [
    "<h3>Exercise 1</h3>\n",
    "<p><b>1. What is the data about?</b></p>\n",
    "<p>The data has information regarding work situation of people and the salaries they earn. This data has people from different countries, occupations and field of work (like in state agencies, private, self employed and similar). Aside from basic information such as age, gender and education level, it also has, for some reason, the job satisfaction they're experiencing in their current workplace.</p>\n",
    "\n",
    "<p><b>2. What are different features and their types (discrete, continuous etc, range of values, possible meaning of the features)?</b></p>\n",
    "<ol> \n",
    "<li>X: An auto-increment column. Type numeric discrete. Range of values: 0 to 32560. Meaning: just an autoincrement value.</li>\n",
    "<li>Age: Type numeric continuous. Range of values: 17 to 90. Meaning: the age of the employee.</li>\n",
    "<li>Workclass: Type text, unorder qualitative so it can't be discrete or continuous. Can be Federal-gov, Local-gov, Never-worked, Private, Self-emp-inc, Self-emp-not-inc, State-gov or Without-pay. Meaning: the type of work in which the person is involved, be it for the government, private, self employed, etc.</li>\n",
    "<li>Education: Type text, unordered qualitative so it can't be discrete or continuous. Can range from all school and high school levels to levels in higher education, such as masters, doctors, etc. Meaning: the last level of education that the person has.</li>\n",
    "<li>Occupation: Type text, unordered qualitative so it can't be discrete or continuous. Can have several values related to the type of work that the person is currently doing. Meaning: The short description of the work that the person is doing, like sales, tech support, armed forces, etc.</li>\n",
    "<li>Capital gain: Type numeric discrete. Range of values: 0 to 99999. Meaning: probably can be the gain that the properties of the person experienced in the last year. It is safe to say that if this value has a number greater than 0, then the field Capital loss must have 0.</li>\n",
    "<li>Capital loss: Type numeric discrete. Range of values: 0 to 99999. Meaning: probably can be the loss that the properties of the person experienced in the last year. It is safe to say that if this value has a number greater than 0, then the field Capital gain must have 0.</li>\n",
    "<li>Native country: Type text, unordered qualitative so it can't be discrete or continuous. Can have values from 42 different countries. Meaning: the country where the person was born.</li>\n",
    "<li>Salaries: Type numeric discrete. Range of values: 38.3412463124841 to 140000. Meaning: the salaries that the person makes per year.\n",
    "</li>\n",
    "<li>Job satisfaction: Type numeric discrete. Range of values: 0 to 15. Meaning: in a scale from 0 to 15, the level of job satisfaction that the person is currently experiencing.</li>\n",
    "<li>Male: Type boolean. Range of values: 1, which can be interpreted as true, or NA, which can be interpreted as false. Meaning: the gender of the person recorded is male. If this value is true, then the column Female is false.</li>\n",
    "<li>Female: Type boolean: Range of values: 1, which can be interpreted as true, or NA, which can be interpreted as false. Meaning: the gender of the person recorded is female. If this value is true, then the column Male is false.</li>\n",
    "</ol>\n",
    "\n",
    "<p><b>3. How many rows are in the dataset?</b></p>\n",
    "<p>32561 rows</p>\n",
    "\n",
    "<p><b>Data cleaning</b></p>\n",
    "<p>The tool used for cleaning the data was OpenRefine. The changes were the following:</p>\n",
    "<ul>\n",
    "<li>Removed the column X</li>\n",
    "<li>In column Age, one value -57 changed to 57. Reason: age can't be negative.</li>\n",
    "<li>In column Age, one value 320 changed to 20. Reason: there's no natural way of living for 320 years, so it was probably a typing error in which the person wanted to type 20 and, because of the closeness of the keys, typed 320. Note that, because of this same fact, it could also be a case in which the person could have wanted to type 2 and typed the 3 by accident. I chose 20 because the information says that he is a high school grad and has a generic \"other service\" occupation, so it is more likely to be a 20 year old.</li>\n",
    "<li>In column age, 97 values \"?\" changed to \"NA.\" Reason: this will make it easier to process in R.</li>\n",
    "<li>In column Workclass, ten values \"privat\" changed to \"Private.\" Reason: there is another group of values that have the value Private, so probably this is an input error.</li>\n",
    "<li>In column Workclass, all workclass values have an space at the beginning, they were removed. Reason: this was probably an error in the application that filled the database. Even though it changes nothing, it's better if the values are as error free as possible. </li>\n",
    "<li>In column Workclass, 1836 values \"?\" changed to \"NA.\" Reason: this will make it easier to process in R.</li>\n",
    "<li>In column Native.country, 891 values \"Unitedstates\" changed to \"United-States.\" Reason: other countries with spaces in their names have a dash instead of the space, so, to follow that convention, it is better to normalize this value to \"United-States\" with a dash present.</li>\n",
    "<li>In column Occupation, 1843 values \"?\" changed to \"NA.\" Reason: this will make it easier to process in R.</li>\n",
    "<li>In column Native.country, 882 values \"UnitedStates\" changed to \"United-States.\" Reason: other countries with spaces in their names have a dash instead of the space, so, to follow that convention, it is better to normalize this value to \"United-States\" with a dash present.</li>\n",
    "<li>In column Native.country, 20 values \"Hong\" changed to \"Hong-Kong.\" Reason: there is no country named Hong, but Hong Kong. Added dash to follow convention of dash instead of space.</li>\n",
    "<li>In column Native.country, all contry values have a space at the beginning, they were removed. Reason: this was probably an error in the application that filled the database. Even though it changes nothing, it's better if the values are as error free as possible.</li>\n",
    "<li>In column Native.country, 20 values \"South\" changed to \"South-Korea.\" Reason: South is not a country, and there are no African countries present in any rows, so this study was probably not done in Africa. Hence, South Korea seems suitable than South Africa.</li>\n",
    "<li>In column Native.country, 583 values \"?\" changed to \"NA.\" Reason: this will make it easier to process in R.</li>\n",
    "<li>In column Jobsatisfaction, one value \"Very good\" changed to \"11.\" Reason: Probably a satisfied worker but doesn't think that his job satisfaction is excellent, which could award a 15, so a 11 might be a good number to translate this very weird mistake. Unfortunately, this is pure speculation because we don't know how the data was filled.</li>\n",
    "</ul>\n",
    "\n",
    "<h3>Exercise 2</h3>\n"
   ]
  },
  {
   "cell_type": "code",
   "execution_count": 97,
   "metadata": {
    "collapsed": true
   },
   "outputs": [],
   "source": [
    "adult = read.table('adult-csv.csv', header = T, stringsAsFactors = F, sep = \",\")"
   ]
  },
  {
   "cell_type": "markdown",
   "metadata": {},
   "source": [
    "<h4>Age</h4>"
   ]
  },
  {
   "cell_type": "code",
   "execution_count": 98,
   "metadata": {
    "collapsed": false
   },
   "outputs": [
    {
     "data": {
      "text/html": [
       "38.5603437654017"
      ],
      "text/latex": [
       "38.5603437654017"
      ],
      "text/markdown": [
       "38.5603437654017"
      ],
      "text/plain": [
       "[1] 38.56034"
      ]
     },
     "metadata": {},
     "output_type": "display_data"
    }
   ],
   "source": [
    "age = adult$age\n",
    "#mean\n",
    "mean(age, na.rm=TRUE)"
   ]
  },
  {
   "cell_type": "code",
   "execution_count": 99,
   "metadata": {
    "collapsed": false
   },
   "outputs": [
    {
     "data": {
      "text/html": [
       "37"
      ],
      "text/latex": [
       "37"
      ],
      "text/markdown": [
       "37"
      ],
      "text/plain": [
       "[1] 37"
      ]
     },
     "metadata": {},
     "output_type": "display_data"
    }
   ],
   "source": [
    "#median\n",
    "median(age, na.rm=TRUE)"
   ]
  },
  {
   "cell_type": "code",
   "execution_count": 100,
   "metadata": {
    "collapsed": false
   },
   "outputs": [
    {
     "data": {
      "text/html": [
       "90"
      ],
      "text/latex": [
       "90"
      ],
      "text/markdown": [
       "90"
      ],
      "text/plain": [
       "[1] 90"
      ]
     },
     "metadata": {},
     "output_type": "display_data"
    }
   ],
   "source": [
    "#max\n",
    "max(age, na.rm = TRUE)"
   ]
  },
  {
   "cell_type": "code",
   "execution_count": 101,
   "metadata": {
    "collapsed": false
   },
   "outputs": [
    {
     "data": {
      "text/html": [
       "17"
      ],
      "text/latex": [
       "17"
      ],
      "text/markdown": [
       "17"
      ],
      "text/plain": [
       "[1] 17"
      ]
     },
     "metadata": {},
     "output_type": "display_data"
    }
   ],
   "source": [
    "#min\n",
    "min(age, na.rm = TRUE)"
   ]
  },
  {
   "cell_type": "code",
   "execution_count": 102,
   "metadata": {
    "collapsed": false
   },
   "outputs": [
    {
     "data": {
      "text/html": [
       "13.6431586804844"
      ],
      "text/latex": [
       "13.6431586804844"
      ],
      "text/markdown": [
       "13.6431586804844"
      ],
      "text/plain": [
       "[1] 13.64316"
      ]
     },
     "metadata": {},
     "output_type": "display_data"
    }
   ],
   "source": [
    "#sd\n",
    "sd(age, na.rm = TRUE)"
   ]
  },
  {
   "cell_type": "code",
   "execution_count": 103,
   "metadata": {
    "collapsed": false
   },
   "outputs": [
    {
     "data": {
      "text/html": [
       "<table>\n",
       "<thead><tr><th></th><th scope=col>freq</th></tr></thead>\n",
       "<tbody>\n",
       "\t<tr><th scope=row>17</th><td>395</td></tr>\n",
       "\t<tr><th scope=row>18</th><td>550</td></tr>\n",
       "\t<tr><th scope=row>19</th><td>712</td></tr>\n",
       "\t<tr><th scope=row>20</th><td>754</td></tr>\n",
       "\t<tr><th scope=row>21</th><td>720</td></tr>\n",
       "\t<tr><th scope=row>22</th><td>765</td></tr>\n",
       "\t<tr><th scope=row>23</th><td>877</td></tr>\n",
       "\t<tr><th scope=row>24</th><td>798</td></tr>\n",
       "\t<tr><th scope=row>25</th><td>841</td></tr>\n",
       "\t<tr><th scope=row>26</th><td>785</td></tr>\n",
       "\t<tr><th scope=row>27</th><td>835</td></tr>\n",
       "\t<tr><th scope=row>28</th><td>864</td></tr>\n",
       "\t<tr><th scope=row>29</th><td>812</td></tr>\n",
       "\t<tr><th scope=row>30</th><td>857</td></tr>\n",
       "\t<tr><th scope=row>31</th><td>886</td></tr>\n",
       "\t<tr><th scope=row>32</th><td>825</td></tr>\n",
       "\t<tr><th scope=row>33</th><td>873</td></tr>\n",
       "\t<tr><th scope=row>34</th><td>884</td></tr>\n",
       "\t<tr><th scope=row>35</th><td>874</td></tr>\n",
       "\t<tr><th scope=row>36</th><td>895</td></tr>\n",
       "\t<tr><th scope=row>37</th><td>854</td></tr>\n",
       "\t<tr><th scope=row>38</th><td>823</td></tr>\n",
       "\t<tr><th scope=row>39</th><td>814</td></tr>\n",
       "\t<tr><th scope=row>40</th><td>791</td></tr>\n",
       "\t<tr><th scope=row>41</th><td>804</td></tr>\n",
       "\t<tr><th scope=row>42</th><td>777</td></tr>\n",
       "\t<tr><th scope=row>43</th><td>768</td></tr>\n",
       "\t<tr><th scope=row>44</th><td>723</td></tr>\n",
       "\t<tr><th scope=row>45</th><td>732</td></tr>\n",
       "\t<tr><th scope=row>46</th><td>732</td></tr>\n",
       "\t<tr><th scope=row>...</th><td>...</td></tr>\n",
       "\t<tr><th scope=row>60</th><td>312</td></tr>\n",
       "\t<tr><th scope=row>61</th><td>300</td></tr>\n",
       "\t<tr><th scope=row>62</th><td>258</td></tr>\n",
       "\t<tr><th scope=row>63</th><td>230</td></tr>\n",
       "\t<tr><th scope=row>64</th><td>207</td></tr>\n",
       "\t<tr><th scope=row>65</th><td>178</td></tr>\n",
       "\t<tr><th scope=row>66</th><td>150</td></tr>\n",
       "\t<tr><th scope=row>67</th><td>151</td></tr>\n",
       "\t<tr><th scope=row>68</th><td>118</td></tr>\n",
       "\t<tr><th scope=row>69</th><td>107</td></tr>\n",
       "\t<tr><th scope=row>70</th><td> 89</td></tr>\n",
       "\t<tr><th scope=row>71</th><td> 72</td></tr>\n",
       "\t<tr><th scope=row>72</th><td> 66</td></tr>\n",
       "\t<tr><th scope=row>73</th><td> 64</td></tr>\n",
       "\t<tr><th scope=row>74</th><td> 50</td></tr>\n",
       "\t<tr><th scope=row>75</th><td> 44</td></tr>\n",
       "\t<tr><th scope=row>76</th><td> 46</td></tr>\n",
       "\t<tr><th scope=row>77</th><td> 29</td></tr>\n",
       "\t<tr><th scope=row>78</th><td> 23</td></tr>\n",
       "\t<tr><th scope=row>79</th><td> 22</td></tr>\n",
       "\t<tr><th scope=row>80</th><td> 22</td></tr>\n",
       "\t<tr><th scope=row>81</th><td> 20</td></tr>\n",
       "\t<tr><th scope=row>82</th><td> 12</td></tr>\n",
       "\t<tr><th scope=row>83</th><td>  6</td></tr>\n",
       "\t<tr><th scope=row>84</th><td> 10</td></tr>\n",
       "\t<tr><th scope=row>85</th><td>  3</td></tr>\n",
       "\t<tr><th scope=row>86</th><td>  1</td></tr>\n",
       "\t<tr><th scope=row>87</th><td>  1</td></tr>\n",
       "\t<tr><th scope=row>88</th><td>  3</td></tr>\n",
       "\t<tr><th scope=row>90</th><td> 43</td></tr>\n",
       "</tbody>\n",
       "</table>\n"
      ],
      "text/latex": [
       "\\begin{tabular}{r|l}\n",
       "  & freq\\\\\n",
       "\\hline\n",
       "\t17 & 395\\\\\n",
       "\t18 & 550\\\\\n",
       "\t19 & 712\\\\\n",
       "\t20 & 754\\\\\n",
       "\t21 & 720\\\\\n",
       "\t22 & 765\\\\\n",
       "\t23 & 877\\\\\n",
       "\t24 & 798\\\\\n",
       "\t25 & 841\\\\\n",
       "\t26 & 785\\\\\n",
       "\t27 & 835\\\\\n",
       "\t28 & 864\\\\\n",
       "\t29 & 812\\\\\n",
       "\t30 & 857\\\\\n",
       "\t31 & 886\\\\\n",
       "\t32 & 825\\\\\n",
       "\t33 & 873\\\\\n",
       "\t34 & 884\\\\\n",
       "\t35 & 874\\\\\n",
       "\t36 & 895\\\\\n",
       "\t37 & 854\\\\\n",
       "\t38 & 823\\\\\n",
       "\t39 & 814\\\\\n",
       "\t40 & 791\\\\\n",
       "\t41 & 804\\\\\n",
       "\t42 & 777\\\\\n",
       "\t43 & 768\\\\\n",
       "\t44 & 723\\\\\n",
       "\t45 & 732\\\\\n",
       "\t46 & 732\\\\\n",
       "\t... & ...\\\\\n",
       "\t60 & 312\\\\\n",
       "\t61 & 300\\\\\n",
       "\t62 & 258\\\\\n",
       "\t63 & 230\\\\\n",
       "\t64 & 207\\\\\n",
       "\t65 & 178\\\\\n",
       "\t66 & 150\\\\\n",
       "\t67 & 151\\\\\n",
       "\t68 & 118\\\\\n",
       "\t69 & 107\\\\\n",
       "\t70 &  89\\\\\n",
       "\t71 &  72\\\\\n",
       "\t72 &  66\\\\\n",
       "\t73 &  64\\\\\n",
       "\t74 &  50\\\\\n",
       "\t75 &  44\\\\\n",
       "\t76 &  46\\\\\n",
       "\t77 &  29\\\\\n",
       "\t78 &  23\\\\\n",
       "\t79 &  22\\\\\n",
       "\t80 &  22\\\\\n",
       "\t81 &  20\\\\\n",
       "\t82 &  12\\\\\n",
       "\t83 &   6\\\\\n",
       "\t84 &  10\\\\\n",
       "\t85 &   3\\\\\n",
       "\t86 &   1\\\\\n",
       "\t87 &   1\\\\\n",
       "\t88 &   3\\\\\n",
       "\t90 &  43\\\\\n",
       "\\end{tabular}\n"
      ],
      "text/markdown": [
       "\n",
       "| <!--/--> | freq | \n",
       "|---|---|---|---|---|---|---|---|---|---|---|---|---|---|---|---|---|---|---|---|---|---|---|---|---|---|---|---|---|---|---|---|---|---|---|---|---|---|---|---|---|---|---|---|---|---|---|---|---|---|---|---|---|---|---|---|---|---|---|---|---|\n",
       "| 17 | 395 | \n",
       "| 18 | 550 | \n",
       "| 19 | 712 | \n",
       "| 20 | 754 | \n",
       "| 21 | 720 | \n",
       "| 22 | 765 | \n",
       "| 23 | 877 | \n",
       "| 24 | 798 | \n",
       "| 25 | 841 | \n",
       "| 26 | 785 | \n",
       "| 27 | 835 | \n",
       "| 28 | 864 | \n",
       "| 29 | 812 | \n",
       "| 30 | 857 | \n",
       "| 31 | 886 | \n",
       "| 32 | 825 | \n",
       "| 33 | 873 | \n",
       "| 34 | 884 | \n",
       "| 35 | 874 | \n",
       "| 36 | 895 | \n",
       "| 37 | 854 | \n",
       "| 38 | 823 | \n",
       "| 39 | 814 | \n",
       "| 40 | 791 | \n",
       "| 41 | 804 | \n",
       "| 42 | 777 | \n",
       "| 43 | 768 | \n",
       "| 44 | 723 | \n",
       "| 45 | 732 | \n",
       "| 46 | 732 | \n",
       "| ... | ... | \n",
       "| 60 | 312 | \n",
       "| 61 | 300 | \n",
       "| 62 | 258 | \n",
       "| 63 | 230 | \n",
       "| 64 | 207 | \n",
       "| 65 | 178 | \n",
       "| 66 | 150 | \n",
       "| 67 | 151 | \n",
       "| 68 | 118 | \n",
       "| 69 | 107 | \n",
       "| 70 |  89 | \n",
       "| 71 |  72 | \n",
       "| 72 |  66 | \n",
       "| 73 |  64 | \n",
       "| 74 |  50 | \n",
       "| 75 |  44 | \n",
       "| 76 |  46 | \n",
       "| 77 |  29 | \n",
       "| 78 |  23 | \n",
       "| 79 |  22 | \n",
       "| 80 |  22 | \n",
       "| 81 |  20 | \n",
       "| 82 |  12 | \n",
       "| 83 |   6 | \n",
       "| 84 |  10 | \n",
       "| 85 |   3 | \n",
       "| 86 |   1 | \n",
       "| 87 |   1 | \n",
       "| 88 |   3 | \n",
       "| 90 |  43 | \n",
       "\n",
       "\n"
      ],
      "text/plain": [
       "    freq\n",
       "17  395 \n",
       "18  550 \n",
       "19  712 \n",
       "20  754 \n",
       "21  720 \n",
       "22  765 \n",
       "23  877 \n",
       "24  798 \n",
       "25  841 \n",
       "26  785 \n",
       "27  835 \n",
       "28  864 \n",
       "29  812 \n",
       "30  857 \n",
       "31  886 \n",
       "32  825 \n",
       "33  873 \n",
       "34  884 \n",
       "35  874 \n",
       "36  895 \n",
       "37  854 \n",
       "38  823 \n",
       "39  814 \n",
       "40  791 \n",
       "41  804 \n",
       "42  777 \n",
       "43  768 \n",
       "44  723 \n",
       "45  732 \n",
       "46  732 \n",
       "... ... \n",
       "60  312 \n",
       "61  300 \n",
       "62  258 \n",
       "63  230 \n",
       "64  207 \n",
       "65  178 \n",
       "66  150 \n",
       "67  151 \n",
       "68  118 \n",
       "69  107 \n",
       "70   89 \n",
       "71   72 \n",
       "72   66 \n",
       "73   64 \n",
       "74   50 \n",
       "75   44 \n",
       "76   46 \n",
       "77   29 \n",
       "78   23 \n",
       "79   22 \n",
       "80   22 \n",
       "81   20 \n",
       "82   12 \n",
       "83    6 \n",
       "84   10 \n",
       "85    3 \n",
       "86    1 \n",
       "87    1 \n",
       "88    3 \n",
       "90   43 "
      ]
     },
     "metadata": {},
     "output_type": "display_data"
    }
   ],
   "source": [
    "#frequency table\n",
    "cbind(freq=table(age))"
   ]
  },
  {
   "cell_type": "code",
   "execution_count": 104,
   "metadata": {
    "collapsed": false
   },
   "outputs": [
    {
     "data": {
      "text/html": [
       "97"
      ],
      "text/latex": [
       "97"
      ],
      "text/markdown": [
       "97"
      ],
      "text/plain": [
       "[1] 97"
      ]
     },
     "metadata": {},
     "output_type": "display_data"
    }
   ],
   "source": [
    "#missing values\n",
    "sum(is.na(age))"
   ]
  },
  {
   "cell_type": "code",
   "execution_count": 105,
   "metadata": {
    "collapsed": false
   },
   "outputs": [
    {
     "data": {
      "image/png": "[encoded data removed]",
      "text/plain": [
       "Plot with title \"Age Distribution\""
      ]
     },
     "metadata": {},
     "output_type": "display_data"
    }
   ],
   "source": [
    "#plot\n",
    "plot(density(age, na.rm = TRUE), xlab=\"Age\", main = \"Age Distribution\")"
   ]
  },
  {
   "cell_type": "markdown",
   "metadata": {},
   "source": [
    "<p><b>Explanation</b><br>\n",
    "<p>We can see that the average age of the people in the DB is a little more than 38 years old and a half. The median is very similar to the mean, at 37. The oldest person in record is 91 years old and the younger 17. Standard deviation at more than 13 makes it the smaller standard deviation of the whole study.</p>\n",
    "<p>In the graph we can see that the age distribution is skewed towards the younger ages. Most of the people are grouped between approximately 20 and 40 years old. After that, the density starts to decrease abruptly, until it reaches approximately 65, which is the retirement age. It is interesting to see that even though they could retire at 65, there are some people that still keeps working.</p>\n",
    "\n",
    "<h4>Workclass</h4>"
   ]
  },
  {
   "cell_type": "code",
   "execution_count": 106,
   "metadata": {
    "collapsed": false
   },
   "outputs": [
    {
     "data": {
      "text/html": [
       "'Median: Private'"
      ],
      "text/latex": [
       "'Median: Private'"
      ],
      "text/markdown": [
       "'Median: Private'"
      ],
      "text/plain": [
       "[1] \"Median: Private\""
      ]
     },
     "metadata": {},
     "output_type": "display_data"
    },
    {
     "data": {
      "text/html": [
       "'Max: Without-pay'"
      ],
      "text/latex": [
       "'Max: Without-pay'"
      ],
      "text/markdown": [
       "'Max: Without-pay'"
      ],
      "text/plain": [
       "[1] \"Max: Without-pay\""
      ]
     },
     "metadata": {},
     "output_type": "display_data"
    },
    {
     "data": {
      "text/html": [
       "'Min Federal-gov'"
      ],
      "text/latex": [
       "'Min Federal-gov'"
      ],
      "text/markdown": [
       "'Min Federal-gov'"
      ],
      "text/plain": [
       "[1] \"Min Federal-gov\""
      ]
     },
     "metadata": {},
     "output_type": "display_data"
    },
    {
     "name": "stdout",
     "output_type": "stream",
     "text": [
      "[1] \"Frequency table\"\n"
     ]
    },
    {
     "data": {
      "text/html": [
       "<table>\n",
       "<thead><tr><th></th><th scope=col>freq</th></tr></thead>\n",
       "<tbody>\n",
       "\t<tr><th scope=row>Federal-gov</th><td>  960</td></tr>\n",
       "\t<tr><th scope=row>Local-gov</th><td> 2093</td></tr>\n",
       "\t<tr><th scope=row>Never-worked</th><td>    7</td></tr>\n",
       "\t<tr><th scope=row>Private</th><td>22696</td></tr>\n",
       "\t<tr><th scope=row>Self-emp-inc</th><td> 1116</td></tr>\n",
       "\t<tr><th scope=row>Self-emp-not-inc</th><td> 2541</td></tr>\n",
       "\t<tr><th scope=row>State-gov</th><td> 1298</td></tr>\n",
       "\t<tr><th scope=row>Without-pay</th><td>   14</td></tr>\n",
       "</tbody>\n",
       "</table>\n"
      ],
      "text/latex": [
       "\\begin{tabular}{r|l}\n",
       "  & freq\\\\\n",
       "\\hline\n",
       "\tFederal-gov &   960\\\\\n",
       "\tLocal-gov &  2093\\\\\n",
       "\tNever-worked &     7\\\\\n",
       "\tPrivate & 22696\\\\\n",
       "\tSelf-emp-inc &  1116\\\\\n",
       "\tSelf-emp-not-inc &  2541\\\\\n",
       "\tState-gov &  1298\\\\\n",
       "\tWithout-pay &    14\\\\\n",
       "\\end{tabular}\n"
      ],
      "text/markdown": [
       "\n",
       "| <!--/--> | freq | \n",
       "|---|---|---|---|---|---|---|---|\n",
       "| Federal-gov |   960 | \n",
       "| Local-gov |  2093 | \n",
       "| Never-worked |     7 | \n",
       "| Private | 22696 | \n",
       "| Self-emp-inc |  1116 | \n",
       "| Self-emp-not-inc |  2541 | \n",
       "| State-gov |  1298 | \n",
       "| Without-pay |    14 | \n",
       "\n",
       "\n"
      ],
      "text/plain": [
       "                 freq \n",
       "Federal-gov        960\n",
       "Local-gov         2093\n",
       "Never-worked         7\n",
       "Private          22696\n",
       "Self-emp-inc      1116\n",
       "Self-emp-not-inc  2541\n",
       "State-gov         1298\n",
       "Without-pay         14"
      ]
     },
     "metadata": {},
     "output_type": "display_data"
    },
    {
     "data": {
      "text/html": [
       "<span style=white-space:pre-wrap>'Missing values:  1836'</span>"
      ],
      "text/latex": [
       "'Missing values:  1836'"
      ],
      "text/markdown": [
       "<span style=white-space:pre-wrap>'Missing values:  1836'</span>"
      ],
      "text/plain": [
       "[1] \"Missing values:  1836\""
      ]
     },
     "metadata": {},
     "output_type": "display_data"
    },
    {
     "data": {
      "image/png": "[encoded data removed]",
      "text/plain": [
       "Plot with title \"Workclass Distribution\""
      ]
     },
     "metadata": {},
     "output_type": "display_data"
    }
   ],
   "source": [
    "#workclass\n",
    "workclass = adult$workclass\n",
    "#median\n",
    "paste(\"Median:\", median(workclass, na.rm=TRUE))\n",
    "#max\n",
    "paste(\"Max:\", max(workclass, na.rm = TRUE))\n",
    "#min\n",
    "paste(\"Min\", min(workclass, na.rm = TRUE))\n",
    "#frequency table\n",
    "print(\"Frequency table\")\n",
    "cbind(freq=table(workclass))\n",
    "#missing values\n",
    "paste(\"Missing values: \", sum(is.na(workclass)))\n",
    "#plot\n",
    "barplot(table(workclass), main=\"Workclass Distribution\", xlab=\"Workclass\", ylab=\"Number of people\", las=3)"
   ]
  },
  {
   "cell_type": "markdown",
   "metadata": {},
   "source": [
    "<p>As the values aren't numeric, there's no way of getting the mean. The median, however, is unsurprisingly \"Private\" since it is the most repeated value in the data set. To determine max and min, seems like R sorts values alphabetically, since the maximum appears as \"Without-pay\" and the minimum one is \"Federal-gov.\" There's no way of determining standard deviation for text values.</p>\n",
    "<p>Both the frequency table and the graph shows an overwhelming amount of private values, with values as never worked and without pay appearing really small because of its difference to the private parameter.</p>\n",
    "<h4>Education</h4>"
   ]
  },
  {
   "cell_type": "code",
   "execution_count": 107,
   "metadata": {
    "collapsed": false
   },
   "outputs": [
    {
     "data": {
      "text/html": [
       "<span style=white-space:pre-wrap>'Median:  HS-grad'</span>"
      ],
      "text/latex": [
       "'Median:  HS-grad'"
      ],
      "text/markdown": [
       "<span style=white-space:pre-wrap>'Median:  HS-grad'</span>"
      ],
      "text/plain": [
       "[1] \"Median:  HS-grad\""
      ]
     },
     "metadata": {},
     "output_type": "display_data"
    },
    {
     "data": {
      "text/html": [
       "<span style=white-space:pre-wrap>'Max:  Some-college'</span>"
      ],
      "text/latex": [
       "'Max:  Some-college'"
      ],
      "text/markdown": [
       "<span style=white-space:pre-wrap>'Max:  Some-college'</span>"
      ],
      "text/plain": [
       "[1] \"Max:  Some-college\""
      ]
     },
     "metadata": {},
     "output_type": "display_data"
    },
    {
     "data": {
      "text/html": [
       "<span style=white-space:pre-wrap>'Min:  10th'</span>"
      ],
      "text/latex": [
       "'Min:  10th'"
      ],
      "text/markdown": [
       "<span style=white-space:pre-wrap>'Min:  10th'</span>"
      ],
      "text/plain": [
       "[1] \"Min:  10th\""
      ]
     },
     "metadata": {},
     "output_type": "display_data"
    },
    {
     "name": "stdout",
     "output_type": "stream",
     "text": [
      "[1] \"Frequency table\"\n"
     ]
    },
    {
     "data": {
      "text/html": [
       "<table>\n",
       "<thead><tr><th></th><th scope=col>freq</th></tr></thead>\n",
       "<tbody>\n",
       "\t<tr><th scope=row> 10th</th><td>  933</td></tr>\n",
       "\t<tr><th scope=row> 11th</th><td> 1175</td></tr>\n",
       "\t<tr><th scope=row> 12th</th><td>  433</td></tr>\n",
       "\t<tr><th scope=row> 1st-4th</th><td>  168</td></tr>\n",
       "\t<tr><th scope=row> 5th-6th</th><td>  333</td></tr>\n",
       "\t<tr><th scope=row> 7th-8th</th><td>  646</td></tr>\n",
       "\t<tr><th scope=row> 9th</th><td>  514</td></tr>\n",
       "\t<tr><th scope=row> Assoc-acdm</th><td> 1067</td></tr>\n",
       "\t<tr><th scope=row> Assoc-voc</th><td> 1382</td></tr>\n",
       "\t<tr><th scope=row> Bachelors</th><td> 5355</td></tr>\n",
       "\t<tr><th scope=row> Doctorate</th><td>  413</td></tr>\n",
       "\t<tr><th scope=row> HS-grad</th><td>10501</td></tr>\n",
       "\t<tr><th scope=row> Masters</th><td> 1723</td></tr>\n",
       "\t<tr><th scope=row> Preschool</th><td>   51</td></tr>\n",
       "\t<tr><th scope=row> Prof-school</th><td>  576</td></tr>\n",
       "\t<tr><th scope=row> Some-college</th><td> 7291</td></tr>\n",
       "</tbody>\n",
       "</table>\n"
      ],
      "text/latex": [
       "\\begin{tabular}{r|l}\n",
       "  & freq\\\\\n",
       "\\hline\n",
       "\t 10th &   933\\\\\n",
       "\t 11th &  1175\\\\\n",
       "\t 12th &   433\\\\\n",
       "\t 1st-4th &   168\\\\\n",
       "\t 5th-6th &   333\\\\\n",
       "\t 7th-8th &   646\\\\\n",
       "\t 9th &   514\\\\\n",
       "\t Assoc-acdm &  1067\\\\\n",
       "\t Assoc-voc &  1382\\\\\n",
       "\t Bachelors &  5355\\\\\n",
       "\t Doctorate &   413\\\\\n",
       "\t HS-grad & 10501\\\\\n",
       "\t Masters &  1723\\\\\n",
       "\t Preschool &    51\\\\\n",
       "\t Prof-school &   576\\\\\n",
       "\t Some-college &  7291\\\\\n",
       "\\end{tabular}\n"
      ],
      "text/markdown": [
       "\n",
       "| <!--/--> | freq | \n",
       "|---|---|---|---|---|---|---|---|---|---|---|---|---|---|---|---|\n",
       "|  10th |   933 | \n",
       "|  11th |  1175 | \n",
       "|  12th |   433 | \n",
       "|  1st-4th |   168 | \n",
       "|  5th-6th |   333 | \n",
       "|  7th-8th |   646 | \n",
       "|  9th |   514 | \n",
       "|  Assoc-acdm |  1067 | \n",
       "|  Assoc-voc |  1382 | \n",
       "|  Bachelors |  5355 | \n",
       "|  Doctorate |   413 | \n",
       "|  HS-grad | 10501 | \n",
       "|  Masters |  1723 | \n",
       "|  Preschool |    51 | \n",
       "|  Prof-school |   576 | \n",
       "|  Some-college |  7291 | \n",
       "\n",
       "\n"
      ],
      "text/plain": [
       "              freq \n",
       " 10th           933\n",
       " 11th          1175\n",
       " 12th           433\n",
       " 1st-4th        168\n",
       " 5th-6th        333\n",
       " 7th-8th        646\n",
       " 9th            514\n",
       " Assoc-acdm    1067\n",
       " Assoc-voc     1382\n",
       " Bachelors     5355\n",
       " Doctorate      413\n",
       " HS-grad      10501\n",
       " Masters       1723\n",
       " Preschool       51\n",
       " Prof-school    576\n",
       " Some-college  7291"
      ]
     },
     "metadata": {},
     "output_type": "display_data"
    },
    {
     "data": {
      "text/html": [
       "<span style=white-space:pre-wrap>'Missing values:  0'</span>"
      ],
      "text/latex": [
       "'Missing values:  0'"
      ],
      "text/markdown": [
       "<span style=white-space:pre-wrap>'Missing values:  0'</span>"
      ],
      "text/plain": [
       "[1] \"Missing values:  0\""
      ]
     },
     "metadata": {},
     "output_type": "display_data"
    },
    {
     "data": {
      "image/png": "[encoded data removed]",
      "text/plain": [
       "Plot with title \"Education Distribution\""
      ]
     },
     "metadata": {},
     "output_type": "display_data"
    }
   ],
   "source": [
    "#education\n",
    "education = adult$education\n",
    "#median\n",
    "paste(\"Median:\", median(education, na.rm=TRUE))\n",
    "#max\n",
    "paste(\"Max:\", max(education, na.rm = TRUE))\n",
    "#min\n",
    "paste(\"Min:\", min(education, na.rm = TRUE))\n",
    "#frequency table\n",
    "print(\"Frequency table\")\n",
    "cbind(freq=table(education))\n",
    "#missing values\n",
    "paste(\"Missing values: \", sum(is.na(education)))\n",
    "#plot\n",
    "barplot(table(education), main=\"Education Distribution\", xlab=\"Education\", ylab=\"Number of people\", las=3)"
   ]
  },
  {
   "cell_type": "markdown",
   "metadata": {},
   "source": [
    "<p>As the values aren't numeric, there's no way of getting the mean. The median, however, is \"HS-grad\", which probably means High School Graduate. To determine max and min, R sorts values alphabetically, since the maximum appears as \"Some-college\" and the minimum one is \"10th.\" There's no way of determining standard deviation for text values.</p>\n",
    "\n",
    "<h4>Occupation</h4>"
   ]
  },
  {
   "cell_type": "code",
   "execution_count": 108,
   "metadata": {
    "collapsed": false
   },
   "outputs": [
    {
     "data": {
      "text/html": [
       "<span style=white-space:pre-wrap>'Max:  Transport-moving'</span>"
      ],
      "text/latex": [
       "'Max:  Transport-moving'"
      ],
      "text/markdown": [
       "<span style=white-space:pre-wrap>'Max:  Transport-moving'</span>"
      ],
      "text/plain": [
       "[1] \"Max:  Transport-moving\""
      ]
     },
     "metadata": {},
     "output_type": "display_data"
    },
    {
     "data": {
      "text/html": [
       "<span style=white-space:pre-wrap>'Min:  Adm-clerical'</span>"
      ],
      "text/latex": [
       "'Min:  Adm-clerical'"
      ],
      "text/markdown": [
       "<span style=white-space:pre-wrap>'Min:  Adm-clerical'</span>"
      ],
      "text/plain": [
       "[1] \"Min:  Adm-clerical\""
      ]
     },
     "metadata": {},
     "output_type": "display_data"
    },
    {
     "name": "stdout",
     "output_type": "stream",
     "text": [
      "[1] \"Frequency table\"\n"
     ]
    },
    {
     "data": {
      "text/html": [
       "<table>\n",
       "<thead><tr><th></th><th scope=col>freq</th></tr></thead>\n",
       "<tbody>\n",
       "\t<tr><th scope=row> Adm-clerical</th><td>3770</td></tr>\n",
       "\t<tr><th scope=row> Armed-Forces</th><td>   9</td></tr>\n",
       "\t<tr><th scope=row> Craft-repair</th><td>4099</td></tr>\n",
       "\t<tr><th scope=row> Exec-managerial</th><td>4066</td></tr>\n",
       "\t<tr><th scope=row> Farming-fishing</th><td> 994</td></tr>\n",
       "\t<tr><th scope=row> Handlers-cleaners</th><td>1370</td></tr>\n",
       "\t<tr><th scope=row> Machine-op-inspct</th><td>2002</td></tr>\n",
       "\t<tr><th scope=row> Other-service</th><td>3295</td></tr>\n",
       "\t<tr><th scope=row> Priv-house-serv</th><td> 149</td></tr>\n",
       "\t<tr><th scope=row> Prof-specialty</th><td>4140</td></tr>\n",
       "\t<tr><th scope=row> Protective-serv</th><td> 649</td></tr>\n",
       "\t<tr><th scope=row> Sales</th><td>3650</td></tr>\n",
       "\t<tr><th scope=row> Tech-support</th><td> 928</td></tr>\n",
       "\t<tr><th scope=row> Transport-moving</th><td>1597</td></tr>\n",
       "</tbody>\n",
       "</table>\n"
      ],
      "text/latex": [
       "\\begin{tabular}{r|l}\n",
       "  & freq\\\\\n",
       "\\hline\n",
       "\t Adm-clerical & 3770\\\\\n",
       "\t Armed-Forces &    9\\\\\n",
       "\t Craft-repair & 4099\\\\\n",
       "\t Exec-managerial & 4066\\\\\n",
       "\t Farming-fishing &  994\\\\\n",
       "\t Handlers-cleaners & 1370\\\\\n",
       "\t Machine-op-inspct & 2002\\\\\n",
       "\t Other-service & 3295\\\\\n",
       "\t Priv-house-serv &  149\\\\\n",
       "\t Prof-specialty & 4140\\\\\n",
       "\t Protective-serv &  649\\\\\n",
       "\t Sales & 3650\\\\\n",
       "\t Tech-support &  928\\\\\n",
       "\t Transport-moving & 1597\\\\\n",
       "\\end{tabular}\n"
      ],
      "text/markdown": [
       "\n",
       "| <!--/--> | freq | \n",
       "|---|---|---|---|---|---|---|---|---|---|---|---|---|---|\n",
       "|  Adm-clerical | 3770 | \n",
       "|  Armed-Forces |    9 | \n",
       "|  Craft-repair | 4099 | \n",
       "|  Exec-managerial | 4066 | \n",
       "|  Farming-fishing |  994 | \n",
       "|  Handlers-cleaners | 1370 | \n",
       "|  Machine-op-inspct | 2002 | \n",
       "|  Other-service | 3295 | \n",
       "|  Priv-house-serv |  149 | \n",
       "|  Prof-specialty | 4140 | \n",
       "|  Protective-serv |  649 | \n",
       "|  Sales | 3650 | \n",
       "|  Tech-support |  928 | \n",
       "|  Transport-moving | 1597 | \n",
       "\n",
       "\n"
      ],
      "text/plain": [
       "                   freq\n",
       " Adm-clerical      3770\n",
       " Armed-Forces         9\n",
       " Craft-repair      4099\n",
       " Exec-managerial   4066\n",
       " Farming-fishing    994\n",
       " Handlers-cleaners 1370\n",
       " Machine-op-inspct 2002\n",
       " Other-service     3295\n",
       " Priv-house-serv    149\n",
       " Prof-specialty    4140\n",
       " Protective-serv    649\n",
       " Sales             3650\n",
       " Tech-support       928\n",
       " Transport-moving  1597"
      ]
     },
     "metadata": {},
     "output_type": "display_data"
    },
    {
     "data": {
      "text/html": [
       "'Missing values: 0'"
      ],
      "text/latex": [
       "'Missing values: 0'"
      ],
      "text/markdown": [
       "'Missing values: 0'"
      ],
      "text/plain": [
       "[1] \"Missing values: 0\""
      ]
     },
     "metadata": {},
     "output_type": "display_data"
    },
    {
     "data": {
      "image/png": "[encoded data removed]",
      "text/plain": [
       "Plot with title \"Occupation Distribution\""
      ]
     },
     "metadata": {},
     "output_type": "display_data"
    }
   ],
   "source": [
    "#occupation\n",
    "occupation = adult$occupation\n",
    "#max\n",
    "paste(\"Max:\", max(occupation, na.rm = TRUE))\n",
    "#min\n",
    "paste(\"Min:\", min(occupation, na.rm = TRUE))\n",
    "#frequency table\n",
    "print(\"Frequency table\")\n",
    "cbind(freq=table(occupation))\n",
    "#missing values\n",
    "paste(\"Missing values:\", sum(is.na(education)))\n",
    "#plot\n",
    "barplot(table(occupation), main=\"Occupation Distribution\", xlab=\"Occupation\", ylab=\"Number of people\", las=3)"
   ]
  },
  {
   "cell_type": "markdown",
   "metadata": {},
   "source": [
    "<p>As the values aren't numeric, there's no way of getting the mean. Also, because the total amount of unique values is even, there's no way of getting the median. To determine max and min, R sorts values alphabetically, since the minimum appears as \"Adm-clerical\" and the maximum one is \"Transport-moving.\" There's no way of determining standard deviation for text values.</p>\n",
    "\n",
    "<h4>Capital Gain</h4>"
   ]
  },
  {
   "cell_type": "code",
   "execution_count": 109,
   "metadata": {
    "collapsed": false
   },
   "outputs": [
    {
     "data": {
      "text/html": [
       "'Mean: 1077.64884370873'"
      ],
      "text/latex": [
       "'Mean: 1077.64884370873'"
      ],
      "text/markdown": [
       "'Mean: 1077.64884370873'"
      ],
      "text/plain": [
       "[1] \"Mean: 1077.64884370873\""
      ]
     },
     "metadata": {},
     "output_type": "display_data"
    },
    {
     "data": {
      "text/html": [
       "'Median: 0'"
      ],
      "text/latex": [
       "'Median: 0'"
      ],
      "text/markdown": [
       "'Median: 0'"
      ],
      "text/plain": [
       "[1] \"Median: 0\""
      ]
     },
     "metadata": {},
     "output_type": "display_data"
    },
    {
     "data": {
      "text/html": [
       "'Max: 99999'"
      ],
      "text/latex": [
       "'Max: 99999'"
      ],
      "text/markdown": [
       "'Max: 99999'"
      ],
      "text/plain": [
       "[1] \"Max: 99999\""
      ]
     },
     "metadata": {},
     "output_type": "display_data"
    },
    {
     "data": {
      "text/html": [
       "'Min: 0'"
      ],
      "text/latex": [
       "'Min: 0'"
      ],
      "text/markdown": [
       "'Min: 0'"
      ],
      "text/plain": [
       "[1] \"Min: 0\""
      ]
     },
     "metadata": {},
     "output_type": "display_data"
    },
    {
     "data": {
      "text/html": [
       "'Standard deviation: 7385.29208484034'"
      ],
      "text/latex": [
       "'Standard deviation: 7385.29208484034'"
      ],
      "text/markdown": [
       "'Standard deviation: 7385.29208484034'"
      ],
      "text/plain": [
       "[1] \"Standard deviation: 7385.29208484034\""
      ]
     },
     "metadata": {},
     "output_type": "display_data"
    },
    {
     "data": {
      "text/html": [
       "'Missing values: 0'"
      ],
      "text/latex": [
       "'Missing values: 0'"
      ],
      "text/markdown": [
       "'Missing values: 0'"
      ],
      "text/plain": [
       "[1] \"Missing values: 0\""
      ]
     },
     "metadata": {},
     "output_type": "display_data"
    },
    {
     "data": {
      "image/png": "[encoded data removed]",
      "text/plain": [
       "Plot with title \"Capital Gain Distribution\""
      ]
     },
     "metadata": {},
     "output_type": "display_data"
    }
   ],
   "source": [
    "#capital.gain\n",
    "capital.gain = adult$capital.gain\n",
    "#mean\n",
    "paste(\"Mean:\", mean(capital.gain, na.rm=TRUE))\n",
    "#median\n",
    "paste(\"Median:\", median(capital.gain, na.rm=TRUE))\n",
    "#max\n",
    "paste(\"Max:\", max(capital.gain, na.rm = TRUE))\n",
    "#min\n",
    "paste(\"Min:\", min(capital.gain, na.rm = TRUE))\n",
    "#sd\n",
    "paste(\"Standard deviation:\", sd(capital.gain, na.rm = TRUE))\n",
    "#missing values\n",
    "paste(\"Missing values:\", sum(is.na(capital.gain)))\n",
    "#plot\n",
    "plot(density(capital.gain, na.rm = TRUE), xlab=\"Capital Gain\", main = \"Capital Gain Distribution\")"
   ]
  },
  {
   "cell_type": "markdown",
   "metadata": {},
   "source": [
    "<p>Since capital gain is not a categorical feature, a frequency table yielded a table very hard to manage, so it was not used.</p>\n",
    "<p>We can see that the average gain of the people in the DB is a little more than 1077. It is supposed that this value is written in USD. The median and the min is 0, explaining the very low median value compared to the max, 99999. Standard deviation at 7385 makes it very big, but not the biggest.</p>\n",
    "<p>In the graph we can see that the there's a lot of values in the 0 range, then it drops dramatically and we can see that by the 20000 values, there's almost no people there. A small amount of people are on 99999, maybe signaling that the upper limit of the program used to input data was this one, so if someone had 99999 or more of capital gain, it got registered as 99999.</p>\n",
    "<h4>Capital Loss</h4>"
   ]
  },
  {
   "cell_type": "code",
   "execution_count": 110,
   "metadata": {
    "collapsed": false
   },
   "outputs": [
    {
     "data": {
      "text/html": [
       "'Mean: 87.303829734959'"
      ],
      "text/latex": [
       "'Mean: 87.303829734959'"
      ],
      "text/markdown": [
       "'Mean: 87.303829734959'"
      ],
      "text/plain": [
       "[1] \"Mean: 87.303829734959\""
      ]
     },
     "metadata": {},
     "output_type": "display_data"
    },
    {
     "data": {
      "text/html": [
       "'Median: 0'"
      ],
      "text/latex": [
       "'Median: 0'"
      ],
      "text/markdown": [
       "'Median: 0'"
      ],
      "text/plain": [
       "[1] \"Median: 0\""
      ]
     },
     "metadata": {},
     "output_type": "display_data"
    },
    {
     "data": {
      "text/html": [
       "'Max: 4356'"
      ],
      "text/latex": [
       "'Max: 4356'"
      ],
      "text/markdown": [
       "'Max: 4356'"
      ],
      "text/plain": [
       "[1] \"Max: 4356\""
      ]
     },
     "metadata": {},
     "output_type": "display_data"
    },
    {
     "data": {
      "text/html": [
       "'Min: 0'"
      ],
      "text/latex": [
       "'Min: 0'"
      ],
      "text/markdown": [
       "'Min: 0'"
      ],
      "text/plain": [
       "[1] \"Min: 0\""
      ]
     },
     "metadata": {},
     "output_type": "display_data"
    },
    {
     "data": {
      "text/html": [
       "'Standard deviation 402.960218649'"
      ],
      "text/latex": [
       "'Standard deviation 402.960218649'"
      ],
      "text/markdown": [
       "'Standard deviation 402.960218649'"
      ],
      "text/plain": [
       "[1] \"Standard deviation 402.960218649\""
      ]
     },
     "metadata": {},
     "output_type": "display_data"
    },
    {
     "data": {
      "text/html": [
       "'Missing values: 0'"
      ],
      "text/latex": [
       "'Missing values: 0'"
      ],
      "text/markdown": [
       "'Missing values: 0'"
      ],
      "text/plain": [
       "[1] \"Missing values: 0\""
      ]
     },
     "metadata": {},
     "output_type": "display_data"
    },
    {
     "data": {
      "image/png": "[encoded data removed]",
      "text/plain": [
       "Plot with title \"Capital Loss Distribution\""
      ]
     },
     "metadata": {},
     "output_type": "display_data"
    }
   ],
   "source": [
    "#capital.loss\n",
    "capital.loss = adult$capital.loss\n",
    "#mean\n",
    "paste(\"Mean:\", mean(capital.loss, na.rm=TRUE))\n",
    "#median\n",
    "paste(\"Median:\", median(capital.loss, na.rm=TRUE))\n",
    "#max\n",
    "paste(\"Max:\", max(capital.loss, na.rm = TRUE))\n",
    "#min\n",
    "paste(\"Min:\", min(capital.loss, na.rm = TRUE))\n",
    "#sd\n",
    "paste(\"Standard deviation\", sd(capital.loss, na.rm = TRUE))\n",
    "#missing values\n",
    "paste(\"Missing values:\", sum(is.na(capital.loss)))\n",
    "#plot\n",
    "plot(density(capital.loss, na.rm = TRUE), xlab=\"Capital Loss\", main = \"Capital Loss Distribution\")"
   ]
  },
  {
   "cell_type": "markdown",
   "metadata": {},
   "source": [
    "<p>Since capital loss is not a categorical feature, a frequency table yielded a table very hard to manage, so it was not used.</p>\n",
    "<p>We can see that the average loss of the people in the DB is a little more than 87. It is supposed that this value is written in USD. The median and the min is 0, explaining the very low median value compared to the max, 4356. Standard deviation at 402 makes it kind of big.</p>\n",
    "<p>In the graph we can see that the there's a lot of values in the 0 range, then it drops dramatically and we can see that my the 1000 values, there's almost no people there. A small amount of people are on 2000 value range, and then it drops again after 2500.</p>\n",
    "<h4>Native Country</h4>"
   ]
  },
  {
   "cell_type": "code",
   "execution_count": 111,
   "metadata": {
    "collapsed": false
   },
   "outputs": [
    {
     "data": {
      "text/html": [
       "'Yugoslavia'"
      ],
      "text/latex": [
       "'Yugoslavia'"
      ],
      "text/markdown": [
       "'Yugoslavia'"
      ],
      "text/plain": [
       "[1] \"Yugoslavia\""
      ]
     },
     "metadata": {},
     "output_type": "display_data"
    },
    {
     "data": {
      "text/html": [
       "'Cambodia'"
      ],
      "text/latex": [
       "'Cambodia'"
      ],
      "text/markdown": [
       "'Cambodia'"
      ],
      "text/plain": [
       "[1] \"Cambodia\""
      ]
     },
     "metadata": {},
     "output_type": "display_data"
    },
    {
     "name": "stdout",
     "output_type": "stream",
     "text": [
      "[1] \"Frequency table\"\n"
     ]
    },
    {
     "data": {
      "text/html": [
       "<table>\n",
       "<thead><tr><th></th><th scope=col>freq</th></tr></thead>\n",
       "<tbody>\n",
       "\t<tr><th scope=row>Cambodia</th><td>   19</td></tr>\n",
       "\t<tr><th scope=row>Canada</th><td>  121</td></tr>\n",
       "\t<tr><th scope=row>China</th><td>   75</td></tr>\n",
       "\t<tr><th scope=row>Columbia</th><td>   59</td></tr>\n",
       "\t<tr><th scope=row>Cuba</th><td>   95</td></tr>\n",
       "\t<tr><th scope=row>Dominican-Republic</th><td>   70</td></tr>\n",
       "\t<tr><th scope=row>Ecuador</th><td>   28</td></tr>\n",
       "\t<tr><th scope=row>El-Salvador</th><td>  106</td></tr>\n",
       "\t<tr><th scope=row>England</th><td>   90</td></tr>\n",
       "\t<tr><th scope=row>France</th><td>   29</td></tr>\n",
       "\t<tr><th scope=row>Germany</th><td>  137</td></tr>\n",
       "\t<tr><th scope=row>Greece</th><td>   29</td></tr>\n",
       "\t<tr><th scope=row>Guatemala</th><td>   64</td></tr>\n",
       "\t<tr><th scope=row>Haiti</th><td>   44</td></tr>\n",
       "\t<tr><th scope=row>Holand-Netherlands</th><td>    1</td></tr>\n",
       "\t<tr><th scope=row>Honduras</th><td>   13</td></tr>\n",
       "\t<tr><th scope=row>Hong-Kong</th><td>   20</td></tr>\n",
       "\t<tr><th scope=row>Hungary</th><td>   13</td></tr>\n",
       "\t<tr><th scope=row>India</th><td>  100</td></tr>\n",
       "\t<tr><th scope=row>Iran</th><td>   43</td></tr>\n",
       "\t<tr><th scope=row>Ireland</th><td>   24</td></tr>\n",
       "\t<tr><th scope=row>Italy</th><td>   73</td></tr>\n",
       "\t<tr><th scope=row>Jamaica</th><td>   81</td></tr>\n",
       "\t<tr><th scope=row>Japan</th><td>   62</td></tr>\n",
       "\t<tr><th scope=row>Laos</th><td>   18</td></tr>\n",
       "\t<tr><th scope=row>Mexico</th><td>  643</td></tr>\n",
       "\t<tr><th scope=row>Nicaragua</th><td>   34</td></tr>\n",
       "\t<tr><th scope=row>Outlying-US(Guam-USVI-etc)</th><td>   14</td></tr>\n",
       "\t<tr><th scope=row>Peru</th><td>   31</td></tr>\n",
       "\t<tr><th scope=row>Philippines</th><td>  198</td></tr>\n",
       "\t<tr><th scope=row>Poland</th><td>   60</td></tr>\n",
       "\t<tr><th scope=row>Portugal</th><td>   37</td></tr>\n",
       "\t<tr><th scope=row>Puerto-Rico</th><td>  114</td></tr>\n",
       "\t<tr><th scope=row>Scotland</th><td>   12</td></tr>\n",
       "\t<tr><th scope=row>South-Korea</th><td>   80</td></tr>\n",
       "\t<tr><th scope=row>Taiwan</th><td>   51</td></tr>\n",
       "\t<tr><th scope=row>Thailand</th><td>   18</td></tr>\n",
       "\t<tr><th scope=row>Trinadad&amp;Tobago</th><td>   19</td></tr>\n",
       "\t<tr><th scope=row>United-States</th><td>29170</td></tr>\n",
       "\t<tr><th scope=row>Vietnam</th><td>   67</td></tr>\n",
       "\t<tr><th scope=row>Yugoslavia</th><td>   16</td></tr>\n",
       "</tbody>\n",
       "</table>\n"
      ],
      "text/latex": [
       "\\begin{tabular}{r|l}\n",
       "  & freq\\\\\n",
       "\\hline\n",
       "\tCambodia &    19\\\\\n",
       "\tCanada &   121\\\\\n",
       "\tChina &    75\\\\\n",
       "\tColumbia &    59\\\\\n",
       "\tCuba &    95\\\\\n",
       "\tDominican-Republic &    70\\\\\n",
       "\tEcuador &    28\\\\\n",
       "\tEl-Salvador &   106\\\\\n",
       "\tEngland &    90\\\\\n",
       "\tFrance &    29\\\\\n",
       "\tGermany &   137\\\\\n",
       "\tGreece &    29\\\\\n",
       "\tGuatemala &    64\\\\\n",
       "\tHaiti &    44\\\\\n",
       "\tHoland-Netherlands &     1\\\\\n",
       "\tHonduras &    13\\\\\n",
       "\tHong-Kong &    20\\\\\n",
       "\tHungary &    13\\\\\n",
       "\tIndia &   100\\\\\n",
       "\tIran &    43\\\\\n",
       "\tIreland &    24\\\\\n",
       "\tItaly &    73\\\\\n",
       "\tJamaica &    81\\\\\n",
       "\tJapan &    62\\\\\n",
       "\tLaos &    18\\\\\n",
       "\tMexico &   643\\\\\n",
       "\tNicaragua &    34\\\\\n",
       "\tOutlying-US(Guam-USVI-etc) &    14\\\\\n",
       "\tPeru &    31\\\\\n",
       "\tPhilippines &   198\\\\\n",
       "\tPoland &    60\\\\\n",
       "\tPortugal &    37\\\\\n",
       "\tPuerto-Rico &   114\\\\\n",
       "\tScotland &    12\\\\\n",
       "\tSouth-Korea &    80\\\\\n",
       "\tTaiwan &    51\\\\\n",
       "\tThailand &    18\\\\\n",
       "\tTrinadad\\&Tobago &    19\\\\\n",
       "\tUnited-States & 29170\\\\\n",
       "\tVietnam &    67\\\\\n",
       "\tYugoslavia &    16\\\\\n",
       "\\end{tabular}\n"
      ],
      "text/markdown": [
       "\n",
       "| <!--/--> | freq | \n",
       "|---|---|---|---|---|---|---|---|---|---|---|---|---|---|---|---|---|---|---|---|---|---|---|---|---|---|---|---|---|---|---|---|---|---|---|---|---|---|---|---|---|\n",
       "| Cambodia |    19 | \n",
       "| Canada |   121 | \n",
       "| China |    75 | \n",
       "| Columbia |    59 | \n",
       "| Cuba |    95 | \n",
       "| Dominican-Republic |    70 | \n",
       "| Ecuador |    28 | \n",
       "| El-Salvador |   106 | \n",
       "| England |    90 | \n",
       "| France |    29 | \n",
       "| Germany |   137 | \n",
       "| Greece |    29 | \n",
       "| Guatemala |    64 | \n",
       "| Haiti |    44 | \n",
       "| Holand-Netherlands |     1 | \n",
       "| Honduras |    13 | \n",
       "| Hong-Kong |    20 | \n",
       "| Hungary |    13 | \n",
       "| India |   100 | \n",
       "| Iran |    43 | \n",
       "| Ireland |    24 | \n",
       "| Italy |    73 | \n",
       "| Jamaica |    81 | \n",
       "| Japan |    62 | \n",
       "| Laos |    18 | \n",
       "| Mexico |   643 | \n",
       "| Nicaragua |    34 | \n",
       "| Outlying-US(Guam-USVI-etc) |    14 | \n",
       "| Peru |    31 | \n",
       "| Philippines |   198 | \n",
       "| Poland |    60 | \n",
       "| Portugal |    37 | \n",
       "| Puerto-Rico |   114 | \n",
       "| Scotland |    12 | \n",
       "| South-Korea |    80 | \n",
       "| Taiwan |    51 | \n",
       "| Thailand |    18 | \n",
       "| Trinadad&Tobago |    19 | \n",
       "| United-States | 29170 | \n",
       "| Vietnam |    67 | \n",
       "| Yugoslavia |    16 | \n",
       "\n",
       "\n"
      ],
      "text/plain": [
       "                           freq \n",
       "Cambodia                      19\n",
       "Canada                       121\n",
       "China                         75\n",
       "Columbia                      59\n",
       "Cuba                          95\n",
       "Dominican-Republic            70\n",
       "Ecuador                       28\n",
       "El-Salvador                  106\n",
       "England                       90\n",
       "France                        29\n",
       "Germany                      137\n",
       "Greece                        29\n",
       "Guatemala                     64\n",
       "Haiti                         44\n",
       "Holand-Netherlands             1\n",
       "Honduras                      13\n",
       "Hong-Kong                     20\n",
       "Hungary                       13\n",
       "India                        100\n",
       "Iran                          43\n",
       "Ireland                       24\n",
       "Italy                         73\n",
       "Jamaica                       81\n",
       "Japan                         62\n",
       "Laos                          18\n",
       "Mexico                       643\n",
       "Nicaragua                     34\n",
       "Outlying-US(Guam-USVI-etc)    14\n",
       "Peru                          31\n",
       "Philippines                  198\n",
       "Poland                        60\n",
       "Portugal                      37\n",
       "Puerto-Rico                  114\n",
       "Scotland                      12\n",
       "South-Korea                   80\n",
       "Taiwan                        51\n",
       "Thailand                      18\n",
       "Trinadad&Tobago               19\n",
       "United-States              29170\n",
       "Vietnam                       67\n",
       "Yugoslavia                    16"
      ]
     },
     "metadata": {},
     "output_type": "display_data"
    },
    {
     "data": {
      "text/html": [
       "'Missing values: 583'"
      ],
      "text/latex": [
       "'Missing values: 583'"
      ],
      "text/markdown": [
       "'Missing values: 583'"
      ],
      "text/plain": [
       "[1] \"Missing values: 583\""
      ]
     },
     "metadata": {},
     "output_type": "display_data"
    },
    {
     "data": {
      "image/png": "[encoded data removed]",
      "text/plain": [
       "Plot with title \"Country Distribution\""
      ]
     },
     "metadata": {},
     "output_type": "display_data"
    }
   ],
   "source": [
    "#native.country\n",
    "native.country = adult$native.country\n",
    "#max\n",
    "max(native.country, na.rm = TRUE)\n",
    "#min\n",
    "min(native.country, na.rm = TRUE)\n",
    "#frequency table\n",
    "print(\"Frequency table\")\n",
    "cbind(freq=table(native.country))\n",
    "#missing values\n",
    "paste(\"Missing values:\", sum(is.na(native.country)))\n",
    "#plot\n",
    "barplot(table(native.country), main=\"Country Distribution\", xlab=\"Country\", ylab=\"Number of people\", las=3)"
   ]
  },
  {
   "cell_type": "markdown",
   "metadata": {},
   "source": [
    "<p>As the values aren't numeric, there's no way of getting the mean. Also, because the total amount of unique values is even, there's no way of getting the median. To determine max and min, R sorts values alphabetically, since the maximum appears as \"Yugoslavia\" and the minimum one is \"Cambodia.\" There's no way of determining standard deviation for text values. As the values for the United States are so high, it is very difficult to analyze this graph because the other values are very small by comparison.</p>\n",
    "<h4>Salaries</h4>"
   ]
  },
  {
   "cell_type": "code",
   "execution_count": 112,
   "metadata": {
    "collapsed": false
   },
   "outputs": [
    {
     "data": {
      "text/html": [
       "'Mean: 39306.4554209306'"
      ],
      "text/latex": [
       "'Mean: 39306.4554209306'"
      ],
      "text/markdown": [
       "'Mean: 39306.4554209306'"
      ],
      "text/plain": [
       "[1] \"Mean: 39306.4554209306\""
      ]
     },
     "metadata": {},
     "output_type": "display_data"
    },
    {
     "data": {
      "text/html": [
       "'Median: 33927'"
      ],
      "text/latex": [
       "'Median: 33927'"
      ],
      "text/markdown": [
       "'Median: 33927'"
      ],
      "text/plain": [
       "[1] \"Median: 33927\""
      ]
     },
     "metadata": {},
     "output_type": "display_data"
    },
    {
     "data": {
      "text/html": [
       "'Max: 140000'"
      ],
      "text/latex": [
       "'Max: 140000'"
      ],
      "text/markdown": [
       "'Max: 140000'"
      ],
      "text/plain": [
       "[1] \"Max: 140000\""
      ]
     },
     "metadata": {},
     "output_type": "display_data"
    },
    {
     "data": {
      "text/html": [
       "'Min: 38.3412463124841'"
      ],
      "text/latex": [
       "'Min: 38.3412463124841'"
      ],
      "text/markdown": [
       "'Min: 38.3412463124841'"
      ],
      "text/plain": [
       "[1] \"Min: 38.3412463124841\""
      ]
     },
     "metadata": {},
     "output_type": "display_data"
    },
    {
     "data": {
      "text/html": [
       "'Standard deviation: 17356.3913390376'"
      ],
      "text/latex": [
       "'Standard deviation: 17356.3913390376'"
      ],
      "text/markdown": [
       "'Standard deviation: 17356.3913390376'"
      ],
      "text/plain": [
       "[1] \"Standard deviation: 17356.3913390376\""
      ]
     },
     "metadata": {},
     "output_type": "display_data"
    },
    {
     "data": {
      "text/html": [
       "'Missing values: 0'"
      ],
      "text/latex": [
       "'Missing values: 0'"
      ],
      "text/markdown": [
       "'Missing values: 0'"
      ],
      "text/plain": [
       "[1] \"Missing values: 0\""
      ]
     },
     "metadata": {},
     "output_type": "display_data"
    },
    {
     "data": {
      "image/png": "[encoded data removed]",
      "text/plain": [
       "Plot with title \"Salaries Distribution\""
      ]
     },
     "metadata": {},
     "output_type": "display_data"
    }
   ],
   "source": [
    "#salaries\n",
    "salaries = adult$salaries\n",
    "#mean\n",
    "paste(\"Mean:\", mean(salaries, na.rm=TRUE))\n",
    "#median\n",
    "paste(\"Median:\", median(salaries, na.rm=TRUE))\n",
    "#max\n",
    "paste(\"Max:\", max(salaries, na.rm = TRUE))\n",
    "#min\n",
    "paste(\"Min:\", min(salaries, na.rm = TRUE))\n",
    "#sd\n",
    "paste(\"Standard deviation:\", sd(salaries, na.rm = TRUE))\n",
    "#missing values\n",
    "paste(\"Missing values:\", sum(is.na(salaries)))\n",
    "#plot\n",
    "plot(density(salaries, na.rm = TRUE), xlab=\"Salaries\", main = \"Salaries Distribution\")"
   ]
  },
  {
   "cell_type": "markdown",
   "metadata": {},
   "source": [
    "<p>Since salary is not a categorical feature, a frequency table yielded a table very hard to manage, so it was not used.</p>\n",
    "<p>We assume that all of these values are in USD. The mean displays an average a little over 40000. The median is very similar, at 33927, but it does vary a bit compared to the mean. We can see an exorbitant high of 140000, compared with the min of just above 38. Standard deviation at 17356 is the biggest on this data set. Missing values at 0 is very rare for this data set, but it happens here,</p>\n",
    "<p>The graph shows two very big groups, the one between approximately 10000 and 50000, and another one between 55000 and approximately 75000. After that, figures drop sginificantly until they're almost non-existant at the 95000 mark.</p>\n",
    "<h4>Job Satisfaction</h4>"
   ]
  },
  {
   "cell_type": "code",
   "execution_count": 113,
   "metadata": {
    "collapsed": false
   },
   "outputs": [
    {
     "data": {
      "text/html": [
       "'Mean: 7.54887749147753'"
      ],
      "text/latex": [
       "'Mean: 7.54887749147753'"
      ],
      "text/markdown": [
       "'Mean: 7.54887749147753'"
      ],
      "text/plain": [
       "[1] \"Mean: 7.54887749147753\""
      ]
     },
     "metadata": {},
     "output_type": "display_data"
    },
    {
     "data": {
      "text/html": [
       "'Median: 7'"
      ],
      "text/latex": [
       "'Median: 7'"
      ],
      "text/markdown": [
       "'Median: 7'"
      ],
      "text/plain": [
       "[1] \"Median: 7\""
      ]
     },
     "metadata": {},
     "output_type": "display_data"
    },
    {
     "data": {
      "text/html": [
       "'Max: 15'"
      ],
      "text/latex": [
       "'Max: 15'"
      ],
      "text/markdown": [
       "'Max: 15'"
      ],
      "text/plain": [
       "[1] \"Max: 15\""
      ]
     },
     "metadata": {},
     "output_type": "display_data"
    },
    {
     "data": {
      "text/html": [
       "'Min: 0'"
      ],
      "text/latex": [
       "'Min: 0'"
      ],
      "text/markdown": [
       "'Min: 0'"
      ],
      "text/plain": [
       "[1] \"Min: 0\""
      ]
     },
     "metadata": {},
     "output_type": "display_data"
    },
    {
     "data": {
      "text/html": [
       "'Standard deviation: 4.45740991120085'"
      ],
      "text/latex": [
       "'Standard deviation: 4.45740991120085'"
      ],
      "text/markdown": [
       "'Standard deviation: 4.45740991120085'"
      ],
      "text/plain": [
       "[1] \"Standard deviation: 4.45740991120085\""
      ]
     },
     "metadata": {},
     "output_type": "display_data"
    },
    {
     "name": "stdout",
     "output_type": "stream",
     "text": [
      "[1] \"Frequency table\"\n"
     ]
    },
    {
     "data": {
      "text/html": [
       "<table>\n",
       "<thead><tr><th></th><th scope=col>freq</th></tr></thead>\n",
       "<tbody>\n",
       "\t<tr><th scope=row>0</th><td>1757</td></tr>\n",
       "\t<tr><th scope=row>1</th><td>1495</td></tr>\n",
       "\t<tr><th scope=row>2</th><td>1811</td></tr>\n",
       "\t<tr><th scope=row>3</th><td>2162</td></tr>\n",
       "\t<tr><th scope=row>4</th><td>2457</td></tr>\n",
       "\t<tr><th scope=row>5</th><td>2452</td></tr>\n",
       "\t<tr><th scope=row>6</th><td>2235</td></tr>\n",
       "\t<tr><th scope=row>7</th><td>2123</td></tr>\n",
       "\t<tr><th scope=row>8</th><td>2070</td></tr>\n",
       "\t<tr><th scope=row>9</th><td>2064</td></tr>\n",
       "\t<tr><th scope=row>10</th><td>2085</td></tr>\n",
       "\t<tr><th scope=row>11</th><td>2142</td></tr>\n",
       "\t<tr><th scope=row>12</th><td>2069</td></tr>\n",
       "\t<tr><th scope=row>13</th><td>1834</td></tr>\n",
       "\t<tr><th scope=row>14</th><td>1456</td></tr>\n",
       "\t<tr><th scope=row>15</th><td>2349</td></tr>\n",
       "</tbody>\n",
       "</table>\n"
      ],
      "text/latex": [
       "\\begin{tabular}{r|l}\n",
       "  & freq\\\\\n",
       "\\hline\n",
       "\t0 & 1757\\\\\n",
       "\t1 & 1495\\\\\n",
       "\t2 & 1811\\\\\n",
       "\t3 & 2162\\\\\n",
       "\t4 & 2457\\\\\n",
       "\t5 & 2452\\\\\n",
       "\t6 & 2235\\\\\n",
       "\t7 & 2123\\\\\n",
       "\t8 & 2070\\\\\n",
       "\t9 & 2064\\\\\n",
       "\t10 & 2085\\\\\n",
       "\t11 & 2142\\\\\n",
       "\t12 & 2069\\\\\n",
       "\t13 & 1834\\\\\n",
       "\t14 & 1456\\\\\n",
       "\t15 & 2349\\\\\n",
       "\\end{tabular}\n"
      ],
      "text/markdown": [
       "\n",
       "| <!--/--> | freq | \n",
       "|---|---|---|---|---|---|---|---|---|---|---|---|---|---|---|---|\n",
       "| 0 | 1757 | \n",
       "| 1 | 1495 | \n",
       "| 2 | 1811 | \n",
       "| 3 | 2162 | \n",
       "| 4 | 2457 | \n",
       "| 5 | 2452 | \n",
       "| 6 | 2235 | \n",
       "| 7 | 2123 | \n",
       "| 8 | 2070 | \n",
       "| 9 | 2064 | \n",
       "| 10 | 2085 | \n",
       "| 11 | 2142 | \n",
       "| 12 | 2069 | \n",
       "| 13 | 1834 | \n",
       "| 14 | 1456 | \n",
       "| 15 | 2349 | \n",
       "\n",
       "\n"
      ],
      "text/plain": [
       "   freq\n",
       "0  1757\n",
       "1  1495\n",
       "2  1811\n",
       "3  2162\n",
       "4  2457\n",
       "5  2452\n",
       "6  2235\n",
       "7  2123\n",
       "8  2070\n",
       "9  2064\n",
       "10 2085\n",
       "11 2142\n",
       "12 2069\n",
       "13 1834\n",
       "14 1456\n",
       "15 2349"
      ]
     },
     "metadata": {},
     "output_type": "display_data"
    },
    {
     "data": {
      "text/html": [
       "'Missing values: 0'"
      ],
      "text/latex": [
       "'Missing values: 0'"
      ],
      "text/markdown": [
       "'Missing values: 0'"
      ],
      "text/plain": [
       "[1] \"Missing values: 0\""
      ]
     },
     "metadata": {},
     "output_type": "display_data"
    },
    {
     "data": {
      "image/png": "[encoded data removed]",
      "text/plain": [
       "Plot with title \"Job Satisfaction Distribution\""
      ]
     },
     "metadata": {},
     "output_type": "display_data"
    }
   ],
   "source": [
    "#jobsatisfaction\n",
    "jobsatisfaction = adult$jobsatisfaction\n",
    "#mean\n",
    "paste(\"Mean:\", mean(jobsatisfaction, na.rm=TRUE))\n",
    "#median\n",
    "paste(\"Median:\", median(jobsatisfaction, na.rm=TRUE))\n",
    "#max\n",
    "paste(\"Max:\", max(jobsatisfaction, na.rm = TRUE))\n",
    "#min\n",
    "paste(\"Min:\", min(jobsatisfaction, na.rm = TRUE))\n",
    "#sd\n",
    "paste(\"Standard deviation:\", sd(jobsatisfaction, na.rm = TRUE))\n",
    "#frequency table\n",
    "print(\"Frequency table\")\n",
    "cbind(freq=table(jobsatisfaction))\n",
    "#missing values\n",
    "paste(\"Missing values:\", sum(is.na(jobsatisfaction)))\n",
    "#plot\n",
    "plot(density(jobsatisfaction, na.rm = TRUE), xlab=\"Job Satisfaction\", main = \"Job Satisfaction Distribution\")"
   ]
  },
  {
   "cell_type": "markdown",
   "metadata": {},
   "source": [
    "<p>This is the most equally distributed field in the data set. The minimum is 0 and the maximum is 15, while the mean is 7.54 and the median is 7. These values are more similar to what you would fine on a normal distributed data set. Standard deviation at 4 is the lowest in the whole set.</p>\n",
    "<p>We can see in the frequency table and the graph that all values are similarly present. Even though 1 is the least present value and 4 is the most, all values have similar representation. There is a big spike at 15, signaling people who are extremely happy with their job.</p>\n",
    "<h4>Male</h4>"
   ]
  },
  {
   "cell_type": "code",
   "execution_count": 114,
   "metadata": {
    "collapsed": false
   },
   "outputs": [
    {
     "data": {
      "text/html": [
       "'Mean: 1'"
      ],
      "text/latex": [
       "'Mean: 1'"
      ],
      "text/markdown": [
       "'Mean: 1'"
      ],
      "text/plain": [
       "[1] \"Mean: 1\""
      ]
     },
     "metadata": {},
     "output_type": "display_data"
    },
    {
     "data": {
      "text/html": [
       "'Median: 1'"
      ],
      "text/latex": [
       "'Median: 1'"
      ],
      "text/markdown": [
       "'Median: 1'"
      ],
      "text/plain": [
       "[1] \"Median: 1\""
      ]
     },
     "metadata": {},
     "output_type": "display_data"
    },
    {
     "data": {
      "text/html": [
       "'Max: 1'"
      ],
      "text/latex": [
       "'Max: 1'"
      ],
      "text/markdown": [
       "'Max: 1'"
      ],
      "text/plain": [
       "[1] \"Max: 1\""
      ]
     },
     "metadata": {},
     "output_type": "display_data"
    },
    {
     "data": {
      "text/html": [
       "'Min: 1'"
      ],
      "text/latex": [
       "'Min: 1'"
      ],
      "text/markdown": [
       "'Min: 1'"
      ],
      "text/plain": [
       "[1] \"Min: 1\""
      ]
     },
     "metadata": {},
     "output_type": "display_data"
    },
    {
     "data": {
      "text/html": [
       "'Standard deviation: 0'"
      ],
      "text/latex": [
       "'Standard deviation: 0'"
      ],
      "text/markdown": [
       "'Standard deviation: 0'"
      ],
      "text/plain": [
       "[1] \"Standard deviation: 0\""
      ]
     },
     "metadata": {},
     "output_type": "display_data"
    },
    {
     "name": "stdout",
     "output_type": "stream",
     "text": [
      "[1] \"Frequency table\"\n"
     ]
    },
    {
     "data": {
      "text/html": [
       "<table>\n",
       "<thead><tr><th></th><th scope=col>freq</th></tr></thead>\n",
       "<tbody>\n",
       "\t<tr><th scope=row>1</th><td>21790</td></tr>\n",
       "</tbody>\n",
       "</table>\n"
      ],
      "text/latex": [
       "\\begin{tabular}{r|l}\n",
       "  & freq\\\\\n",
       "\\hline\n",
       "\t1 & 21790\\\\\n",
       "\\end{tabular}\n"
      ],
      "text/markdown": [
       "\n",
       "| <!--/--> | freq | \n",
       "|---|\n",
       "| 1 | 21790 | \n",
       "\n",
       "\n"
      ],
      "text/plain": [
       "  freq \n",
       "1 21790"
      ]
     },
     "metadata": {},
     "output_type": "display_data"
    },
    {
     "data": {
      "text/html": [
       "'Missing values: 10771'"
      ],
      "text/latex": [
       "'Missing values: 10771'"
      ],
      "text/markdown": [
       "'Missing values: 10771'"
      ],
      "text/plain": [
       "[1] \"Missing values: 10771\""
      ]
     },
     "metadata": {},
     "output_type": "display_data"
    },
    {
     "data": {
      "image/png": "[encoded data removed]",
      "text/plain": [
       "Plot with title \"Male Distribution\""
      ]
     },
     "metadata": {},
     "output_type": "display_data"
    }
   ],
   "source": [
    "#male\n",
    "male = adult$male\n",
    "#mean\n",
    "paste(\"Mean:\", mean(male, na.rm=TRUE))\n",
    "#median\n",
    "paste(\"Median:\", median(male, na.rm=TRUE))\n",
    "#max\n",
    "paste(\"Max:\", max(male, na.rm = TRUE))\n",
    "#min\n",
    "paste(\"Min:\", min(male, na.rm = TRUE))\n",
    "#sd\n",
    "paste(\"Standard deviation:\", sd(male, na.rm = TRUE))\n",
    "#frequency table\n",
    "print(\"Frequency table\")\n",
    "cbind(freq=table(male))\n",
    "#missing values\n",
    "paste(\"Missing values:\", sum(is.na(male)))\n",
    "#plot\n",
    "plot(density(male, na.rm = TRUE), xlab=\"Male\", main = \"Male Distribution\")"
   ]
  },
  {
   "cell_type": "markdown",
   "metadata": {},
   "source": [
    "<p>Since this is a boolean kind of value, in which is the entry is male it has 1, and if not, it has NA, values are unsurprisingly 1 all across median, mean, max and min. Standard deviation is 0 because there's no deviation. All of the missing values correspond to the females in the data set, and the graph shows a perfect distribution.</p>\n",
    "<h4>Female</h4>"
   ]
  },
  {
   "cell_type": "code",
   "execution_count": 115,
   "metadata": {
    "collapsed": false
   },
   "outputs": [
    {
     "data": {
      "text/html": [
       "'Mean: 1'"
      ],
      "text/latex": [
       "'Mean: 1'"
      ],
      "text/markdown": [
       "'Mean: 1'"
      ],
      "text/plain": [
       "[1] \"Mean: 1\""
      ]
     },
     "metadata": {},
     "output_type": "display_data"
    },
    {
     "data": {
      "text/html": [
       "'Median: 1'"
      ],
      "text/latex": [
       "'Median: 1'"
      ],
      "text/markdown": [
       "'Median: 1'"
      ],
      "text/plain": [
       "[1] \"Median: 1\""
      ]
     },
     "metadata": {},
     "output_type": "display_data"
    },
    {
     "data": {
      "text/html": [
       "'Max: 1'"
      ],
      "text/latex": [
       "'Max: 1'"
      ],
      "text/markdown": [
       "'Max: 1'"
      ],
      "text/plain": [
       "[1] \"Max: 1\""
      ]
     },
     "metadata": {},
     "output_type": "display_data"
    },
    {
     "data": {
      "text/html": [
       "'Min: 1'"
      ],
      "text/latex": [
       "'Min: 1'"
      ],
      "text/markdown": [
       "'Min: 1'"
      ],
      "text/plain": [
       "[1] \"Min: 1\""
      ]
     },
     "metadata": {},
     "output_type": "display_data"
    },
    {
     "data": {
      "text/html": [
       "'Standard deviation: 0'"
      ],
      "text/latex": [
       "'Standard deviation: 0'"
      ],
      "text/markdown": [
       "'Standard deviation: 0'"
      ],
      "text/plain": [
       "[1] \"Standard deviation: 0\""
      ]
     },
     "metadata": {},
     "output_type": "display_data"
    },
    {
     "name": "stdout",
     "output_type": "stream",
     "text": [
      "[1] \"Frequency table\"\n"
     ]
    },
    {
     "data": {
      "text/html": [
       "<table>\n",
       "<thead><tr><th></th><th scope=col>freq</th></tr></thead>\n",
       "<tbody>\n",
       "\t<tr><th scope=row>1</th><td>10771</td></tr>\n",
       "</tbody>\n",
       "</table>\n"
      ],
      "text/latex": [
       "\\begin{tabular}{r|l}\n",
       "  & freq\\\\\n",
       "\\hline\n",
       "\t1 & 10771\\\\\n",
       "\\end{tabular}\n"
      ],
      "text/markdown": [
       "\n",
       "| <!--/--> | freq | \n",
       "|---|\n",
       "| 1 | 10771 | \n",
       "\n",
       "\n"
      ],
      "text/plain": [
       "  freq \n",
       "1 10771"
      ]
     },
     "metadata": {},
     "output_type": "display_data"
    },
    {
     "data": {
      "text/html": [
       "'Missing values: 21790'"
      ],
      "text/latex": [
       "'Missing values: 21790'"
      ],
      "text/markdown": [
       "'Missing values: 21790'"
      ],
      "text/plain": [
       "[1] \"Missing values: 21790\""
      ]
     },
     "metadata": {},
     "output_type": "display_data"
    },
    {
     "data": {
      "image/png": "[encoded data removed]",
      "text/plain": [
       "Plot with title \"Female Distribution\""
      ]
     },
     "metadata": {},
     "output_type": "display_data"
    }
   ],
   "source": [
    "#female\n",
    "female = adult$female\n",
    "#mean\n",
    "paste(\"Mean:\", mean(female, na.rm=TRUE))\n",
    "#median\n",
    "paste(\"Median:\", median(female, na.rm=TRUE))\n",
    "#max\n",
    "paste(\"Max:\", max(female, na.rm = TRUE))\n",
    "#min\n",
    "paste(\"Min:\", min(female, na.rm = TRUE))\n",
    "#sd\n",
    "paste(\"Standard deviation:\", sd(female, na.rm = TRUE))\n",
    "#frequency table\n",
    "print(\"Frequency table\")\n",
    "cbind(freq=table(female))\n",
    "#missing values\n",
    "paste(\"Missing values:\", sum(is.na(female)))\n",
    "#plot\n",
    "plot(density(female, na.rm = TRUE), xlab=\"Female\", main = \"Female Distribution\")"
   ]
  },
  {
   "cell_type": "markdown",
   "metadata": {},
   "source": [
    "<p>Since this is a boolean kind of value, in which is the entry is female it has 1, and if not, it has NA, values are unsurprisingly 1 all across median, mean, max and min. Standard deviation is 0 because there's no deviation. All of the missing values correspond to the males in the data set, and the graph shows a perfect distribution.</p>"
   ]
  },
  {
   "cell_type": "markdown",
   "metadata": {},
   "source": [
    "<h3>Exercise 3</h3>"
   ]
  },
  {
   "cell_type": "code",
   "execution_count": 116,
   "metadata": {
    "collapsed": false
   },
   "outputs": [
    {
     "data": {
      "text/html": [
       "'IQR: 20'"
      ],
      "text/latex": [
       "'IQR: 20'"
      ],
      "text/markdown": [
       "'IQR: 20'"
      ],
      "text/plain": [
       "[1] \"IQR: 20\""
      ]
     },
     "metadata": {},
     "output_type": "display_data"
    },
    {
     "data": {
      "text/html": [
       "'Upper limit: 72'"
      ],
      "text/latex": [
       "'Upper limit: 72'"
      ],
      "text/markdown": [
       "'Upper limit: 72'"
      ],
      "text/plain": [
       "[1] \"Upper limit: 72\""
      ]
     },
     "metadata": {},
     "output_type": "display_data"
    },
    {
     "data": {
      "text/html": [
       "'Lower limit: 18.6666666666667'"
      ],
      "text/latex": [
       "'Lower limit: 18.6666666666667'"
      ],
      "text/markdown": [
       "'Lower limit: 18.6666666666667'"
      ],
      "text/plain": [
       "[1] \"Lower limit: 18.6666666666667\""
      ]
     },
     "metadata": {},
     "output_type": "display_data"
    }
   ],
   "source": [
    "#age\n",
    "paste(\"IQR:\", IQR(age, na.rm = TRUE))\n",
    "paste(\"Upper limit:\", quantile(age, 0.75, na.rm = TRUE) * 1.5)\n",
    "paste(\"Lower limit:\", quantile(age, 0.25, na.rm = TRUE) / 1.5)"
   ]
  },
  {
   "cell_type": "markdown",
   "metadata": {},
   "source": [
    "<p>Regarding the upper limit, only 18 and 17 would be affected by this, but there are a lot of values of 17 and 18, so removing them would directly affect the data. It is probably not a good idea. The same applies for the upper side of the data, the threshold is very low at 72, when there are a lot of values which are greater than this. Even the highest value, 90, is repeated 43 times, so removing it would make no sense. There are people working at that age, that is a fact and should not be considered an outlier.</p>"
   ]
  },
  {
   "cell_type": "code",
   "execution_count": 117,
   "metadata": {
    "collapsed": false
   },
   "outputs": [
    {
     "data": {
      "text/html": [
       "'IQR: 0'"
      ],
      "text/latex": [
       "'IQR: 0'"
      ],
      "text/markdown": [
       "'IQR: 0'"
      ],
      "text/plain": [
       "[1] \"IQR: 0\""
      ]
     },
     "metadata": {},
     "output_type": "display_data"
    },
    {
     "data": {
      "text/html": [
       "'Upper limit: 0'"
      ],
      "text/latex": [
       "'Upper limit: 0'"
      ],
      "text/markdown": [
       "'Upper limit: 0'"
      ],
      "text/plain": [
       "[1] \"Upper limit: 0\""
      ]
     },
     "metadata": {},
     "output_type": "display_data"
    },
    {
     "data": {
      "text/html": [
       "'Lower limit: 0'"
      ],
      "text/latex": [
       "'Lower limit: 0'"
      ],
      "text/markdown": [
       "'Lower limit: 0'"
      ],
      "text/plain": [
       "[1] \"Lower limit: 0\""
      ]
     },
     "metadata": {},
     "output_type": "display_data"
    },
    {
     "data": {
      "text/html": [
       "'IQR: 0'"
      ],
      "text/latex": [
       "'IQR: 0'"
      ],
      "text/markdown": [
       "'IQR: 0'"
      ],
      "text/plain": [
       "[1] \"IQR: 0\""
      ]
     },
     "metadata": {},
     "output_type": "display_data"
    },
    {
     "data": {
      "text/html": [
       "'Upper limit: 0'"
      ],
      "text/latex": [
       "'Upper limit: 0'"
      ],
      "text/markdown": [
       "'Upper limit: 0'"
      ],
      "text/plain": [
       "[1] \"Upper limit: 0\""
      ]
     },
     "metadata": {},
     "output_type": "display_data"
    },
    {
     "data": {
      "text/html": [
       "'Lower limit: 0'"
      ],
      "text/latex": [
       "'Lower limit: 0'"
      ],
      "text/markdown": [
       "'Lower limit: 0'"
      ],
      "text/plain": [
       "[1] \"Lower limit: 0\""
      ]
     },
     "metadata": {},
     "output_type": "display_data"
    }
   ],
   "source": [
    "#capital.gain\n",
    "paste(\"IQR:\", IQR(capital.gain, na.rm = TRUE))\n",
    "paste(\"Upper limit:\", quantile(capital.gain, 0.75, na.rm = TRUE) * 1.5)\n",
    "paste(\"Lower limit:\", quantile(capital.gain, 0.25, na.rm = TRUE) / 1.5)\n",
    "\n",
    "#capital.loss\n",
    "paste(\"IQR:\", IQR(capital.loss, na.rm = TRUE))\n",
    "paste(\"Upper limit:\", quantile(capital.loss, 0.75, na.rm = TRUE) * 1.5)\n",
    "paste(\"Lower limit:\", quantile(capital.loss, 0.25, na.rm = TRUE) / 1.5)"
   ]
  },
  {
   "cell_type": "markdown",
   "metadata": {},
   "source": [
    "<p>With these upper and lower quartile values, removing some of them in any of these fields would mean that a lot of information is lost, since all of the values are above the upper limit, so no values were removed.</p>"
   ]
  },
  {
   "cell_type": "code",
   "execution_count": 118,
   "metadata": {
    "collapsed": false
   },
   "outputs": [
    {
     "data": {
      "text/html": [
       "'IQR: 21177'"
      ],
      "text/latex": [
       "'IQR: 21177'"
      ],
      "text/markdown": [
       "'IQR: 21177'"
      ],
      "text/plain": [
       "[1] \"IQR: 21177\""
      ]
     },
     "metadata": {},
     "output_type": "display_data"
    },
    {
     "data": {
      "text/html": [
       "'Upper limit: 72327'"
      ],
      "text/latex": [
       "'Upper limit: 72327'"
      ],
      "text/markdown": [
       "'Upper limit: 72327'"
      ],
      "text/plain": [
       "[1] \"Upper limit: 72327\""
      ]
     },
     "metadata": {},
     "output_type": "display_data"
    },
    {
     "data": {
      "text/html": [
       "'Lower limit: 18027.3333333333'"
      ],
      "text/latex": [
       "'Lower limit: 18027.3333333333'"
      ],
      "text/markdown": [
       "'Lower limit: 18027.3333333333'"
      ],
      "text/plain": [
       "[1] \"Lower limit: 18027.3333333333\""
      ]
     },
     "metadata": {},
     "output_type": "display_data"
    }
   ],
   "source": [
    "#salaries\n",
    "paste(\"IQR:\", IQR(salaries, na.rm = TRUE))\n",
    "paste(\"Upper limit:\", quantile(salaries, 0.75, na.rm = TRUE) * 1.5)\n",
    "paste(\"Lower limit:\", quantile(salaries, 0.25, na.rm = TRUE) / 1.5)"
   ]
  },
  {
   "cell_type": "markdown",
   "metadata": {},
   "source": [
    "<p>Salaries have, in my opinion, two removable outliers: 100000 and 140000. Other values up the upper limit are actually very well represented so I don't think it is a good idea to remove them. These other two values are very rare and so far away from the rest that they should probably be removed. On the lower side of the data, there are a lot of values below the lower quartile but those are the actual salaries of some people so why should we remove them? However, four values are just way too low and there's no way someone can survive with these, and those are the values 126 and the three below that.</p>\n",
    "\n",
    "<p>Calculations are done again for this feature:</p>"
   ]
  },
  {
   "cell_type": "code",
   "execution_count": 119,
   "metadata": {
    "collapsed": false
   },
   "outputs": [
    {
     "data": {
      "text/html": [
       "'Mean: 39306.3185142846'"
      ],
      "text/latex": [
       "'Mean: 39306.3185142846'"
      ],
      "text/markdown": [
       "'Mean: 39306.3185142846'"
      ],
      "text/plain": [
       "[1] \"Mean: 39306.3185142846\""
      ]
     },
     "metadata": {},
     "output_type": "display_data"
    },
    {
     "data": {
      "text/html": [
       "'Median: 33928'"
      ],
      "text/latex": [
       "'Median: 33928'"
      ],
      "text/markdown": [
       "'Median: 33928'"
      ],
      "text/plain": [
       "[1] \"Median: 33928\""
      ]
     },
     "metadata": {},
     "output_type": "display_data"
    },
    {
     "data": {
      "text/html": [
       "'Max: 91182'"
      ],
      "text/latex": [
       "'Max: 91182'"
      ],
      "text/markdown": [
       "'Max: 91182'"
      ],
      "text/plain": [
       "[1] \"Max: 91182\""
      ]
     },
     "metadata": {},
     "output_type": "display_data"
    },
    {
     "data": {
      "text/html": [
       "'Min: 301.954831928015'"
      ],
      "text/latex": [
       "'Min: 301.954831928015'"
      ],
      "text/markdown": [
       "'Min: 301.954831928015'"
      ],
      "text/plain": [
       "[1] \"Min: 301.954831928015\""
      ]
     },
     "metadata": {},
     "output_type": "display_data"
    },
    {
     "data": {
      "text/html": [
       "'Standard deviation: 17340.3028587042'"
      ],
      "text/latex": [
       "'Standard deviation: 17340.3028587042'"
      ],
      "text/markdown": [
       "'Standard deviation: 17340.3028587042'"
      ],
      "text/plain": [
       "[1] \"Standard deviation: 17340.3028587042\""
      ]
     },
     "metadata": {},
     "output_type": "display_data"
    },
    {
     "data": {
      "text/html": [
       "'Missing values: 0'"
      ],
      "text/latex": [
       "'Missing values: 0'"
      ],
      "text/markdown": [
       "'Missing values: 0'"
      ],
      "text/plain": [
       "[1] \"Missing values: 0\""
      ]
     },
     "metadata": {},
     "output_type": "display_data"
    },
    {
     "data": {
      "image/png": "[encoded data removed]",
      "text/plain": [
       "Plot with title \"Salaries Distribution\""
      ]
     },
     "metadata": {},
     "output_type": "display_data"
    }
   ],
   "source": [
    "#new salary with removed values\n",
    "salaries2 = adult[adult$salaries > 127 & salaries < 99999, ]$salaries\n",
    "#mean\n",
    "paste(\"Mean:\", mean(salaries2, na.rm=TRUE))\n",
    "#median\n",
    "paste(\"Median:\", median(salaries2, na.rm=TRUE))\n",
    "#max\n",
    "paste(\"Max:\", max(salaries2, na.rm = TRUE))\n",
    "#min\n",
    "paste(\"Min:\", min(salaries2, na.rm = TRUE))\n",
    "#sd\n",
    "paste(\"Standard deviation:\", sd(salaries2, na.rm = TRUE))\n",
    "#missing values\n",
    "paste(\"Missing values:\", sum(is.na(salaries2)))\n",
    "#plot\n",
    "plot(density(salaries2, na.rm = TRUE), xlab=\"Salaries\", main = \"Salaries Distribution\")"
   ]
  },
  {
   "cell_type": "markdown",
   "metadata": {},
   "source": [
    "<p>As expected, there's very little changes on mean and median, and obviously the max and min parameters changed. Standard deviation went down a little bit, from 17356 to 17340. Anyways, it is still high. The plot is now more compact and easier to read, since it doesn't have to accomodate the high values.</p>"
   ]
  },
  {
   "cell_type": "code",
   "execution_count": 120,
   "metadata": {
    "collapsed": false
   },
   "outputs": [
    {
     "data": {
      "text/html": [
       "'IQR: 7'"
      ],
      "text/latex": [
       "'IQR: 7'"
      ],
      "text/markdown": [
       "'IQR: 7'"
      ],
      "text/plain": [
       "[1] \"IQR: 7\""
      ]
     },
     "metadata": {},
     "output_type": "display_data"
    },
    {
     "data": {
      "text/html": [
       "'Upper limit: 16.5'"
      ],
      "text/latex": [
       "'Upper limit: 16.5'"
      ],
      "text/markdown": [
       "'Upper limit: 16.5'"
      ],
      "text/plain": [
       "[1] \"Upper limit: 16.5\""
      ]
     },
     "metadata": {},
     "output_type": "display_data"
    },
    {
     "data": {
      "text/html": [
       "'Lower limit: 2.66666666666667'"
      ],
      "text/latex": [
       "'Lower limit: 2.66666666666667'"
      ],
      "text/markdown": [
       "'Lower limit: 2.66666666666667'"
      ],
      "text/plain": [
       "[1] \"Lower limit: 2.66666666666667\""
      ]
     },
     "metadata": {},
     "output_type": "display_data"
    }
   ],
   "source": [
    "#jobsatisfaction\n",
    "paste(\"IQR:\", IQR(jobsatisfaction, na.rm = TRUE))\n",
    "paste(\"Upper limit:\", quantile(jobsatisfaction, 0.75, na.rm = TRUE) * 1.5)\n",
    "paste(\"Lower limit:\", quantile(jobsatisfaction, 0.25, na.rm = TRUE) / 1.5)"
   ]
  },
  {
   "cell_type": "markdown",
   "metadata": {},
   "source": [
    "<p>Since these values are part of a scale from 0 to 15, deleting values would make no sense, so there are no values that should be considered as outliers, so no values were removed.</p>"
   ]
  },
  {
   "cell_type": "code",
   "execution_count": 121,
   "metadata": {
    "collapsed": false
   },
   "outputs": [
    {
     "data": {
      "text/html": [
       "'IQR: 0'"
      ],
      "text/latex": [
       "'IQR: 0'"
      ],
      "text/markdown": [
       "'IQR: 0'"
      ],
      "text/plain": [
       "[1] \"IQR: 0\""
      ]
     },
     "metadata": {},
     "output_type": "display_data"
    },
    {
     "data": {
      "text/html": [
       "'Upper limit: 1.5'"
      ],
      "text/latex": [
       "'Upper limit: 1.5'"
      ],
      "text/markdown": [
       "'Upper limit: 1.5'"
      ],
      "text/plain": [
       "[1] \"Upper limit: 1.5\""
      ]
     },
     "metadata": {},
     "output_type": "display_data"
    },
    {
     "data": {
      "text/html": [
       "'Lower limit: 0.666666666666667'"
      ],
      "text/latex": [
       "'Lower limit: 0.666666666666667'"
      ],
      "text/markdown": [
       "'Lower limit: 0.666666666666667'"
      ],
      "text/plain": [
       "[1] \"Lower limit: 0.666666666666667\""
      ]
     },
     "metadata": {},
     "output_type": "display_data"
    },
    {
     "data": {
      "text/html": [
       "'IQR: 0'"
      ],
      "text/latex": [
       "'IQR: 0'"
      ],
      "text/markdown": [
       "'IQR: 0'"
      ],
      "text/plain": [
       "[1] \"IQR: 0\""
      ]
     },
     "metadata": {},
     "output_type": "display_data"
    },
    {
     "data": {
      "text/html": [
       "'Upper limit: 1.5'"
      ],
      "text/latex": [
       "'Upper limit: 1.5'"
      ],
      "text/markdown": [
       "'Upper limit: 1.5'"
      ],
      "text/plain": [
       "[1] \"Upper limit: 1.5\""
      ]
     },
     "metadata": {},
     "output_type": "display_data"
    },
    {
     "data": {
      "text/html": [
       "'Lower limit: 0.666666666666667'"
      ],
      "text/latex": [
       "'Lower limit: 0.666666666666667'"
      ],
      "text/markdown": [
       "'Lower limit: 0.666666666666667'"
      ],
      "text/plain": [
       "[1] \"Lower limit: 0.666666666666667\""
      ]
     },
     "metadata": {},
     "output_type": "display_data"
    }
   ],
   "source": [
    "#male\n",
    "paste(\"IQR:\", IQR(male, na.rm = TRUE))\n",
    "paste(\"Upper limit:\", quantile(male, 0.75, na.rm = TRUE) * 1.5)\n",
    "paste(\"Lower limit:\", quantile(male, 0.25, na.rm = TRUE) / 1.5)\n",
    "\n",
    "#female\n",
    "paste(\"IQR:\", IQR(female, na.rm = TRUE))\n",
    "paste(\"Upper limit:\", quantile(female, 0.75, na.rm = TRUE) * 1.5)\n",
    "paste(\"Lower limit:\", quantile(female, 0.25, na.rm = TRUE) / 1.5)"
   ]
  },
  {
   "cell_type": "markdown",
   "metadata": {},
   "source": [
    "<p>It would make no sense to remove values here since they are closely related to each other and there's no outliers, just 1 and NA, so no values were removed.</p>"
   ]
  },
  {
   "cell_type": "markdown",
   "metadata": {},
   "source": [
    "<h3>Exercise 4</h3>\n",
    "<p>In the case of age, we can quickly see that absolutely all of the missing values have doctorate as an education. Almost all of them have Prof-specialty as occupation and United States as native country (although this last fact is true for almost all records). Thus, we can infer that the age values here are probably very similar to other doctorates.</p>\n",
    "<p>Thus, we can complete the values of these entries by calculating the mean of all the doctorate values.</p>"
   ]
  },
  {
   "cell_type": "code",
   "execution_count": 122,
   "metadata": {
    "collapsed": false
   },
   "outputs": [
    {
     "data": {
      "text/html": [
       "48.3512658227848"
      ],
      "text/latex": [
       "48.3512658227848"
      ],
      "text/markdown": [
       "48.3512658227848"
      ],
      "text/plain": [
       "[1] 48.35127"
      ]
     },
     "metadata": {},
     "output_type": "display_data"
    }
   ],
   "source": [
    "mean(subset(adult, education == ' Doctorate')$age, na.rm = TRUE)"
   ]
  },
  {
   "cell_type": "markdown",
   "metadata": {},
   "source": [
    "<p>From this calculation, a total of 97 values were changed from NA to 48 and new calculations are made.</p>"
   ]
  },
  {
   "cell_type": "code",
   "execution_count": 123,
   "metadata": {
    "collapsed": false
   },
   "outputs": [
    {
     "data": {
      "text/html": [
       "38.5884647277418"
      ],
      "text/latex": [
       "38.5884647277418"
      ],
      "text/markdown": [
       "38.5884647277418"
      ],
      "text/plain": [
       "[1] 38.58846"
      ]
     },
     "metadata": {},
     "output_type": "display_data"
    }
   ],
   "source": [
    "#repetition of calculations\n",
    "age2 = adult$age\n",
    "age2[is.na(age2)] <- 48\n",
    "#mean\n",
    "mean(age2, na.rm=TRUE)"
   ]
  },
  {
   "cell_type": "markdown",
   "metadata": {},
   "source": [
    "<p>We can see that the mean increased slightly, just 0.02 points. This is good because it means that the change hasn't affected the overall data that much in regards to the average age of the records.</p>"
   ]
  },
  {
   "cell_type": "code",
   "execution_count": 124,
   "metadata": {
    "collapsed": false
   },
   "outputs": [
    {
     "data": {
      "text/html": [
       "37"
      ],
      "text/latex": [
       "37"
      ],
      "text/markdown": [
       "37"
      ],
      "text/plain": [
       "[1] 37"
      ]
     },
     "metadata": {},
     "output_type": "display_data"
    }
   ],
   "source": [
    "#median\n",
    "median(age2, na.rm=TRUE)"
   ]
  },
  {
   "cell_type": "markdown",
   "metadata": {},
   "source": [
    "<p>No change on the median as well, which was a value that could change but fortunately didn't.</p>"
   ]
  },
  {
   "cell_type": "code",
   "execution_count": 125,
   "metadata": {
    "collapsed": false
   },
   "outputs": [
    {
     "data": {
      "text/html": [
       "90"
      ],
      "text/latex": [
       "90"
      ],
      "text/markdown": [
       "90"
      ],
      "text/plain": [
       "[1] 90"
      ]
     },
     "metadata": {},
     "output_type": "display_data"
    },
    {
     "data": {
      "text/html": [
       "17"
      ],
      "text/latex": [
       "17"
      ],
      "text/markdown": [
       "17"
      ],
      "text/plain": [
       "[1] 17"
      ]
     },
     "metadata": {},
     "output_type": "display_data"
    }
   ],
   "source": [
    "#max\n",
    "max(age2, na.rm = TRUE)\n",
    "#min\n",
    "min(age2, na.rm = TRUE)"
   ]
  },
  {
   "cell_type": "markdown",
   "metadata": {},
   "source": [
    "<p>Since the values changed were nowhere near the maximum or minimum values, it makes sense that these values are unaltered.</p>"
   ]
  },
  {
   "cell_type": "code",
   "execution_count": 126,
   "metadata": {
    "collapsed": false
   },
   "outputs": [
    {
     "data": {
      "text/html": [
       "13.6325319863358"
      ],
      "text/latex": [
       "13.6325319863358"
      ],
      "text/markdown": [
       "13.6325319863358"
      ],
      "text/plain": [
       "[1] 13.63253"
      ]
     },
     "metadata": {},
     "output_type": "display_data"
    }
   ],
   "source": [
    "#sd\n",
    "sd(age2, na.rm = TRUE)"
   ]
  },
  {
   "cell_type": "markdown",
   "metadata": {},
   "source": [
    "The standard deviation decreased a just 0.01, meaning that the values are a bit less dispersed, but nothing noteworthy."
   ]
  },
  {
   "cell_type": "code",
   "execution_count": 127,
   "metadata": {
    "collapsed": false
   },
   "outputs": [
    {
     "data": {
      "text/html": [
       "<table>\n",
       "<thead><tr><th></th><th scope=col>freq</th></tr></thead>\n",
       "<tbody>\n",
       "\t<tr><th scope=row>17</th><td>395</td></tr>\n",
       "\t<tr><th scope=row>18</th><td>550</td></tr>\n",
       "\t<tr><th scope=row>19</th><td>712</td></tr>\n",
       "\t<tr><th scope=row>20</th><td>754</td></tr>\n",
       "\t<tr><th scope=row>21</th><td>720</td></tr>\n",
       "\t<tr><th scope=row>22</th><td>765</td></tr>\n",
       "\t<tr><th scope=row>23</th><td>877</td></tr>\n",
       "\t<tr><th scope=row>24</th><td>798</td></tr>\n",
       "\t<tr><th scope=row>25</th><td>841</td></tr>\n",
       "\t<tr><th scope=row>26</th><td>785</td></tr>\n",
       "\t<tr><th scope=row>27</th><td>835</td></tr>\n",
       "\t<tr><th scope=row>28</th><td>864</td></tr>\n",
       "\t<tr><th scope=row>29</th><td>812</td></tr>\n",
       "\t<tr><th scope=row>30</th><td>857</td></tr>\n",
       "\t<tr><th scope=row>31</th><td>886</td></tr>\n",
       "\t<tr><th scope=row>32</th><td>825</td></tr>\n",
       "\t<tr><th scope=row>33</th><td>873</td></tr>\n",
       "\t<tr><th scope=row>34</th><td>884</td></tr>\n",
       "\t<tr><th scope=row>35</th><td>874</td></tr>\n",
       "\t<tr><th scope=row>36</th><td>895</td></tr>\n",
       "\t<tr><th scope=row>37</th><td>854</td></tr>\n",
       "\t<tr><th scope=row>38</th><td>823</td></tr>\n",
       "\t<tr><th scope=row>39</th><td>814</td></tr>\n",
       "\t<tr><th scope=row>40</th><td>791</td></tr>\n",
       "\t<tr><th scope=row>41</th><td>804</td></tr>\n",
       "\t<tr><th scope=row>42</th><td>777</td></tr>\n",
       "\t<tr><th scope=row>43</th><td>768</td></tr>\n",
       "\t<tr><th scope=row>44</th><td>723</td></tr>\n",
       "\t<tr><th scope=row>45</th><td>732</td></tr>\n",
       "\t<tr><th scope=row>46</th><td>732</td></tr>\n",
       "\t<tr><th scope=row>...</th><td>...</td></tr>\n",
       "\t<tr><th scope=row>60</th><td>312</td></tr>\n",
       "\t<tr><th scope=row>61</th><td>300</td></tr>\n",
       "\t<tr><th scope=row>62</th><td>258</td></tr>\n",
       "\t<tr><th scope=row>63</th><td>230</td></tr>\n",
       "\t<tr><th scope=row>64</th><td>207</td></tr>\n",
       "\t<tr><th scope=row>65</th><td>178</td></tr>\n",
       "\t<tr><th scope=row>66</th><td>150</td></tr>\n",
       "\t<tr><th scope=row>67</th><td>151</td></tr>\n",
       "\t<tr><th scope=row>68</th><td>118</td></tr>\n",
       "\t<tr><th scope=row>69</th><td>107</td></tr>\n",
       "\t<tr><th scope=row>70</th><td> 89</td></tr>\n",
       "\t<tr><th scope=row>71</th><td> 72</td></tr>\n",
       "\t<tr><th scope=row>72</th><td> 66</td></tr>\n",
       "\t<tr><th scope=row>73</th><td> 64</td></tr>\n",
       "\t<tr><th scope=row>74</th><td> 50</td></tr>\n",
       "\t<tr><th scope=row>75</th><td> 44</td></tr>\n",
       "\t<tr><th scope=row>76</th><td> 46</td></tr>\n",
       "\t<tr><th scope=row>77</th><td> 29</td></tr>\n",
       "\t<tr><th scope=row>78</th><td> 23</td></tr>\n",
       "\t<tr><th scope=row>79</th><td> 22</td></tr>\n",
       "\t<tr><th scope=row>80</th><td> 22</td></tr>\n",
       "\t<tr><th scope=row>81</th><td> 20</td></tr>\n",
       "\t<tr><th scope=row>82</th><td> 12</td></tr>\n",
       "\t<tr><th scope=row>83</th><td>  6</td></tr>\n",
       "\t<tr><th scope=row>84</th><td> 10</td></tr>\n",
       "\t<tr><th scope=row>85</th><td>  3</td></tr>\n",
       "\t<tr><th scope=row>86</th><td>  1</td></tr>\n",
       "\t<tr><th scope=row>87</th><td>  1</td></tr>\n",
       "\t<tr><th scope=row>88</th><td>  3</td></tr>\n",
       "\t<tr><th scope=row>90</th><td> 43</td></tr>\n",
       "</tbody>\n",
       "</table>\n"
      ],
      "text/latex": [
       "\\begin{tabular}{r|l}\n",
       "  & freq\\\\\n",
       "\\hline\n",
       "\t17 & 395\\\\\n",
       "\t18 & 550\\\\\n",
       "\t19 & 712\\\\\n",
       "\t20 & 754\\\\\n",
       "\t21 & 720\\\\\n",
       "\t22 & 765\\\\\n",
       "\t23 & 877\\\\\n",
       "\t24 & 798\\\\\n",
       "\t25 & 841\\\\\n",
       "\t26 & 785\\\\\n",
       "\t27 & 835\\\\\n",
       "\t28 & 864\\\\\n",
       "\t29 & 812\\\\\n",
       "\t30 & 857\\\\\n",
       "\t31 & 886\\\\\n",
       "\t32 & 825\\\\\n",
       "\t33 & 873\\\\\n",
       "\t34 & 884\\\\\n",
       "\t35 & 874\\\\\n",
       "\t36 & 895\\\\\n",
       "\t37 & 854\\\\\n",
       "\t38 & 823\\\\\n",
       "\t39 & 814\\\\\n",
       "\t40 & 791\\\\\n",
       "\t41 & 804\\\\\n",
       "\t42 & 777\\\\\n",
       "\t43 & 768\\\\\n",
       "\t44 & 723\\\\\n",
       "\t45 & 732\\\\\n",
       "\t46 & 732\\\\\n",
       "\t... & ...\\\\\n",
       "\t60 & 312\\\\\n",
       "\t61 & 300\\\\\n",
       "\t62 & 258\\\\\n",
       "\t63 & 230\\\\\n",
       "\t64 & 207\\\\\n",
       "\t65 & 178\\\\\n",
       "\t66 & 150\\\\\n",
       "\t67 & 151\\\\\n",
       "\t68 & 118\\\\\n",
       "\t69 & 107\\\\\n",
       "\t70 &  89\\\\\n",
       "\t71 &  72\\\\\n",
       "\t72 &  66\\\\\n",
       "\t73 &  64\\\\\n",
       "\t74 &  50\\\\\n",
       "\t75 &  44\\\\\n",
       "\t76 &  46\\\\\n",
       "\t77 &  29\\\\\n",
       "\t78 &  23\\\\\n",
       "\t79 &  22\\\\\n",
       "\t80 &  22\\\\\n",
       "\t81 &  20\\\\\n",
       "\t82 &  12\\\\\n",
       "\t83 &   6\\\\\n",
       "\t84 &  10\\\\\n",
       "\t85 &   3\\\\\n",
       "\t86 &   1\\\\\n",
       "\t87 &   1\\\\\n",
       "\t88 &   3\\\\\n",
       "\t90 &  43\\\\\n",
       "\\end{tabular}\n"
      ],
      "text/markdown": [
       "\n",
       "| <!--/--> | freq | \n",
       "|---|---|---|---|---|---|---|---|---|---|---|---|---|---|---|---|---|---|---|---|---|---|---|---|---|---|---|---|---|---|---|---|---|---|---|---|---|---|---|---|---|---|---|---|---|---|---|---|---|---|---|---|---|---|---|---|---|---|---|---|---|\n",
       "| 17 | 395 | \n",
       "| 18 | 550 | \n",
       "| 19 | 712 | \n",
       "| 20 | 754 | \n",
       "| 21 | 720 | \n",
       "| 22 | 765 | \n",
       "| 23 | 877 | \n",
       "| 24 | 798 | \n",
       "| 25 | 841 | \n",
       "| 26 | 785 | \n",
       "| 27 | 835 | \n",
       "| 28 | 864 | \n",
       "| 29 | 812 | \n",
       "| 30 | 857 | \n",
       "| 31 | 886 | \n",
       "| 32 | 825 | \n",
       "| 33 | 873 | \n",
       "| 34 | 884 | \n",
       "| 35 | 874 | \n",
       "| 36 | 895 | \n",
       "| 37 | 854 | \n",
       "| 38 | 823 | \n",
       "| 39 | 814 | \n",
       "| 40 | 791 | \n",
       "| 41 | 804 | \n",
       "| 42 | 777 | \n",
       "| 43 | 768 | \n",
       "| 44 | 723 | \n",
       "| 45 | 732 | \n",
       "| 46 | 732 | \n",
       "| ... | ... | \n",
       "| 60 | 312 | \n",
       "| 61 | 300 | \n",
       "| 62 | 258 | \n",
       "| 63 | 230 | \n",
       "| 64 | 207 | \n",
       "| 65 | 178 | \n",
       "| 66 | 150 | \n",
       "| 67 | 151 | \n",
       "| 68 | 118 | \n",
       "| 69 | 107 | \n",
       "| 70 |  89 | \n",
       "| 71 |  72 | \n",
       "| 72 |  66 | \n",
       "| 73 |  64 | \n",
       "| 74 |  50 | \n",
       "| 75 |  44 | \n",
       "| 76 |  46 | \n",
       "| 77 |  29 | \n",
       "| 78 |  23 | \n",
       "| 79 |  22 | \n",
       "| 80 |  22 | \n",
       "| 81 |  20 | \n",
       "| 82 |  12 | \n",
       "| 83 |   6 | \n",
       "| 84 |  10 | \n",
       "| 85 |   3 | \n",
       "| 86 |   1 | \n",
       "| 87 |   1 | \n",
       "| 88 |   3 | \n",
       "| 90 |  43 | \n",
       "\n",
       "\n"
      ],
      "text/plain": [
       "    freq\n",
       "17  395 \n",
       "18  550 \n",
       "19  712 \n",
       "20  754 \n",
       "21  720 \n",
       "22  765 \n",
       "23  877 \n",
       "24  798 \n",
       "25  841 \n",
       "26  785 \n",
       "27  835 \n",
       "28  864 \n",
       "29  812 \n",
       "30  857 \n",
       "31  886 \n",
       "32  825 \n",
       "33  873 \n",
       "34  884 \n",
       "35  874 \n",
       "36  895 \n",
       "37  854 \n",
       "38  823 \n",
       "39  814 \n",
       "40  791 \n",
       "41  804 \n",
       "42  777 \n",
       "43  768 \n",
       "44  723 \n",
       "45  732 \n",
       "46  732 \n",
       "... ... \n",
       "60  312 \n",
       "61  300 \n",
       "62  258 \n",
       "63  230 \n",
       "64  207 \n",
       "65  178 \n",
       "66  150 \n",
       "67  151 \n",
       "68  118 \n",
       "69  107 \n",
       "70   89 \n",
       "71   72 \n",
       "72   66 \n",
       "73   64 \n",
       "74   50 \n",
       "75   44 \n",
       "76   46 \n",
       "77   29 \n",
       "78   23 \n",
       "79   22 \n",
       "80   22 \n",
       "81   20 \n",
       "82   12 \n",
       "83    6 \n",
       "84   10 \n",
       "85    3 \n",
       "86    1 \n",
       "87    1 \n",
       "88    3 \n",
       "90   43 "
      ]
     },
     "metadata": {},
     "output_type": "display_data"
    }
   ],
   "source": [
    "#frequency table\n",
    "cbind(freq=table(age2))"
   ]
  },
  {
   "cell_type": "markdown",
   "metadata": {},
   "source": [
    "<p>This is where a greater change could be seen, since the number 48 went up from 541 to 638.</p>"
   ]
  },
  {
   "cell_type": "code",
   "execution_count": 128,
   "metadata": {
    "collapsed": false
   },
   "outputs": [
    {
     "data": {
      "text/html": [
       "0"
      ],
      "text/latex": [
       "0"
      ],
      "text/markdown": [
       "0"
      ],
      "text/plain": [
       "[1] 0"
      ]
     },
     "metadata": {},
     "output_type": "display_data"
    }
   ],
   "source": [
    "#missing values\n",
    "sum(is.na(age2))"
   ]
  },
  {
   "cell_type": "markdown",
   "metadata": {},
   "source": [
    "<p>Obviously, now the NA values are 0 because all were replaced.</p>"
   ]
  },
  {
   "cell_type": "code",
   "execution_count": 129,
   "metadata": {
    "collapsed": false
   },
   "outputs": [
    {
     "data": {
      "image/png": "[encoded data removed]",
      "text/plain": [
       "Plot with title \"Age Distribution\""
      ]
     },
     "metadata": {},
     "output_type": "display_data"
    }
   ],
   "source": [
    "#plot\n",
    "plot(density(age, na.rm = TRUE), xlab=\"Age\", main = \"Age Distribution\")\n",
    "lines (density(age2), col=\"red\")\n",
    "legend('topright', c(\"Age with NA\", \"Age without NA\") , lty=1, col=c('black', 'red'), bty='n', cex=.75)"
   ]
  },
  {
   "cell_type": "markdown",
   "metadata": {},
   "source": [
    "<p>The plot changes just a little bit around the 48 mark, unsurprisingly. The rest of the graph is virtually unchanged, as we can clearly see by the very few black dots present in the line. As previously said, I think this is good because it means that the values we added are not altering significantly the rest of the data.</p>"
   ]
  },
  {
   "cell_type": "markdown",
   "metadata": {},
   "source": [
    "<p>In the case of native.country, it is very hard to find a pattern for the missing countries. Unlike age, all of the values are different, ages vary a lot, as do the education, positions, salaries, capital changes, satisfaction and gender. For this reason, in my opinion, there's no easy way, or at least we don't know it yet, to fill this data with information as we did for the age. Since the value is text and not numeric, there's no way of getting an average or something similar and fill the NA values with this numeric assumed value. Because of the overwhelming amount of entries with United-States as the country, we could assume that the missing entries might be from the United States too, but we are not sure, so I think it is better to leave them as NA.</p>"
   ]
  },
  {
   "cell_type": "markdown",
   "metadata": {},
   "source": [
    "<h3>Exercise 5</h3>\n",
    "<h4>Graph 1</h4>"
   ]
  },
  {
   "cell_type": "code",
   "execution_count": 131,
   "metadata": {
    "collapsed": false
   },
   "outputs": [
    {
     "data": {},
     "metadata": {},
     "output_type": "display_data"
    },
    {
     "data": {
      "image/png": "[encoded data removed]",
      "text/plain": [
       "plot without title"
      ]
     },
     "metadata": {},
     "output_type": "display_data"
    }
   ],
   "source": [
    "library(ggplot2)\n",
    "\n",
    "maleData = adult[adult$male == 1, ]$salaries\n",
    "maleMean = mean(maleData, na.rm = TRUE)\n",
    "\n",
    "femaleData = adult[adult$female == 1, ]$salaries\n",
    "femaleMean = mean(femaleData, na.rm = TRUE)\n",
    "\n",
    "dat <- data.frame(\n",
    "  averages = c(\"Male\", \"Female\"),\n",
    "  values = c(maleMean, femaleMean)\n",
    ")\n",
    "\n",
    "ggplot(data = dat, aes(x=dat$averages, y=dat$values), fill=dat$averages) +\n",
    "  geom_bar(stat=\"identity\", colour=\"black\", fill=\"#bbbbbb\") +\n",
    "  xlab(\"Gender\") + ylab(\"Average of salary\") +\n",
    "  guides(fill=TRUE) + \n",
    "  ggtitle(\"Average of salary between genders\")"
   ]
  },
  {
   "cell_type": "markdown",
   "metadata": {},
   "source": [
    "<p>The graph was generated by first gathering the averages of salary for males and females, and then creating a data frame with it. After that, the ggplot function was used, sending it the data, information for X and Y axis, formatting elements for the bars and setting the titles of the axis and title to make it more understandable. In theory, the guides function would show a legend but I couldn't manage to get it to work.</p>\n",
    "<p>Simple graphic but clearly shows that on this sample, female employees are still earning less money than male people. Be it because female employees have less important positions or they're just earning less money for doing the same amount of job, the problem between inequality between pays and opportunities among females and males is still a problem to this days. In order to do a more meticulous study on if the discrepancy is because of women being in less favorable positions or just earning less, a more detailed data would be required, since this set has information of the activity people perform, but not what position do they have.</p>\n",
    "\n",
    "<h4>Graph 2</h4>"
   ]
  },
  {
   "cell_type": "code",
   "execution_count": 133,
   "metadata": {
    "collapsed": false
   },
   "outputs": [
    {
     "data": {},
     "metadata": {},
     "output_type": "display_data"
    },
    {
     "data": {
      "image/png": "[encoded data removed]",
      "text/plain": [
       "plot without title"
      ]
     },
     "metadata": {},
     "output_type": "display_data"
    }
   ],
   "source": [
    "countriesClean <- subset(adult, !is.na(native.country))\n",
    "df <- data.frame(countriesClean$native.country, countriesClean$salaries)\n",
    "aggr <- aggregate(df$countriesClean.salaries ~ df$countriesClean.native.country, data = df, mean)\n",
    "aggr2 <- aggr[order(aggr[,2], decreasing = TRUE), , drop = FALSE]\n",
    "finaldf = head(aggr2, 10)\n",
    "\n",
    "dat2 <- data.frame(\n",
    "  countries = finaldf$`df$countriesClean.native.country`,\n",
    "  values = finaldf$`df$countriesClean.salaries`\n",
    ")\n",
    "\n",
    "dat2$countries <- factor(dat2$countries, levels = dat2$countries[order(dat2$values, decreasing = TRUE)])\n",
    "\n",
    "ggplot(data = dat2, aes(x=dat2$countries, y=dat2$values), fill=dat2$countries) +\n",
    "  geom_bar(stat=\"identity\", colour=\"black\", fill=\"#bbbbbb\") +\n",
    "  xlab(\"Country\") + ylab(\"Average of salary\") +\n",
    "  guides(fill=TRUE) + \n",
    "  ggtitle(\"Average of salary between countries\")"
   ]
  },
  {
   "cell_type": "markdown",
   "metadata": {},
   "source": [
    "<p>To generate this graph, first I filtered the countries that were empty, because if not, the aggregation wouldn't work. Then, the aggregation (similar to a GROUP BY in SQL) was done so that all salaries within a country were applied the function mean, to get the final average. Then, the top 10 were chosen, and the data frame was created. To make sure that the graph showed the values in order by the value and not by the name, a factor was added to the countries part of the data frame. The graph itself was generated in the same way as the first one.</p>\n",
    "<p>Here we analyze the top 10 paying countries. It is interesting to not that, even though United States has a lot of values, the average of them didn't make it to the top 10. They have lot of workers but they don't earn that much. The first value is Yugoslavia with almost 50000 of average, followed by Iran with 45792 and India with 45700.</p>\n",
    "\n",
    "<h4>Graph 3</h4>"
   ]
  },
  {
   "cell_type": "code",
   "execution_count": 134,
   "metadata": {
    "collapsed": false
   },
   "outputs": [
    {
     "data": {},
     "metadata": {},
     "output_type": "display_data"
    },
    {
     "data": {
      "image/png": "[encoded data removed]",
      "text/plain": [
       "plot without title"
      ]
     },
     "metadata": {},
     "output_type": "display_data"
    }
   ],
   "source": [
    "#graph 3\n",
    "occClean <- subset(adult, !is.na(occupation) | is.na(age))\n",
    "df3 <- data.frame(occClean$occupation, occClean$age)\n",
    "aggrG3 <- aggregate(df3$occClean.age ~ df3$occClean.occupation, data = df3, mean)\n",
    "aggrG3F <- aggrG3[order(aggrG3[,2], decreasing = TRUE), , drop = FALSE]\n",
    "finaldfG3 = aggrG3F\n",
    "\n",
    "dat3 <- data.frame(\n",
    "  occupation = finaldfG3$`df3$occClean.occupation`,\n",
    "  values = finaldfG3$`df3$occClean.age`\n",
    ")\n",
    "\n",
    "dat3$occupation <- factor(dat3$occupation, levels = dat3$occupation[order(dat3$values, decreasing = TRUE)])\n",
    "\n",
    "ggplot(data = dat3, aes(x=dat3$occupation, y=dat3$values), fill=dat3$occupation) +\n",
    "  geom_bar(stat=\"identity\", colour=\"black\", fill=\"#bbbbbb\") +\n",
    "  xlab(\"Occupation\") + ylab(\"Average of age\") +\n",
    "  guides(fill=TRUE) + \n",
    "  ggtitle(\"Average of age between occupations\") +\n",
    "  theme(axis.text.x=element_text(angle=90,hjust=1,vjust=0.5))"
   ]
  },
  {
   "cell_type": "markdown",
   "metadata": {},
   "source": [
    "<p>This graph is generated in a similar way to the second one, but the angle of the X axis was changed in order to accomodate the longer names of the occupations. This was done through the theme function and setting it at a 90 degree angle over the axis.</p>\n",
    "<p>We can see that the average of people in managerial activities are over 40 years old. Some things to note is that, unsurprisingly, the armed forces are one of the occupations with the youngest workers. Overall, although there are some jobs with a younger population than others, most of them are very similar to each other, with the youngest and the oldest group of people being only 12 years apart.</p>"
   ]
  }
 ],
 "metadata": {
  "kernelspec": {
   "display_name": "R",
   "language": "R",
   "name": "ir"
  },
  "language_info": {
   "codemirror_mode": "r",
   "file_extension": ".r",
   "mimetype": "text/x-r-source",
   "name": "R",
   "pygments_lexer": "r",
   "version": "3.3.2"
  }
 },
 "nbformat": 4,
 "nbformat_minor": 2
}
